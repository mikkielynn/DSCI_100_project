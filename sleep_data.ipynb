{
 "cells": [
  {
   "cell_type": "code",
   "execution_count": 1,
   "id": "cc7b9dba-93b1-47b3-9256-1e485451657c",
   "metadata": {},
   "outputs": [
    {
     "name": "stderr",
     "output_type": "stream",
     "text": [
      "── \u001b[1mAttaching packages\u001b[22m ─────────────────────────────────────── tidyverse 1.3.1 ──\n",
      "\n",
      "\u001b[32m✔\u001b[39m \u001b[34mggplot2\u001b[39m 3.3.6     \u001b[32m✔\u001b[39m \u001b[34mpurrr  \u001b[39m 0.3.4\n",
      "\u001b[32m✔\u001b[39m \u001b[34mtibble \u001b[39m 3.1.7     \u001b[32m✔\u001b[39m \u001b[34mdplyr  \u001b[39m 1.0.9\n",
      "\u001b[32m✔\u001b[39m \u001b[34mtidyr  \u001b[39m 1.2.0     \u001b[32m✔\u001b[39m \u001b[34mstringr\u001b[39m 1.4.0\n",
      "\u001b[32m✔\u001b[39m \u001b[34mreadr  \u001b[39m 2.1.2     \u001b[32m✔\u001b[39m \u001b[34mforcats\u001b[39m 0.5.1\n",
      "\n",
      "── \u001b[1mConflicts\u001b[22m ────────────────────────────────────────── tidyverse_conflicts() ──\n",
      "\u001b[31m✖\u001b[39m \u001b[34mdplyr\u001b[39m::\u001b[32mfilter()\u001b[39m masks \u001b[34mstats\u001b[39m::filter()\n",
      "\u001b[31m✖\u001b[39m \u001b[34mdplyr\u001b[39m::\u001b[32mlag()\u001b[39m    masks \u001b[34mstats\u001b[39m::lag()\n",
      "\n",
      "── \u001b[1mAttaching packages\u001b[22m ────────────────────────────────────── tidymodels 1.0.0 ──\n",
      "\n",
      "\u001b[32m✔\u001b[39m \u001b[34mbroom       \u001b[39m 1.0.0     \u001b[32m✔\u001b[39m \u001b[34mrsample     \u001b[39m 1.0.0\n",
      "\u001b[32m✔\u001b[39m \u001b[34mdials       \u001b[39m 1.0.0     \u001b[32m✔\u001b[39m \u001b[34mtune        \u001b[39m 1.0.0\n",
      "\u001b[32m✔\u001b[39m \u001b[34minfer       \u001b[39m 1.0.2     \u001b[32m✔\u001b[39m \u001b[34mworkflows   \u001b[39m 1.0.0\n",
      "\u001b[32m✔\u001b[39m \u001b[34mmodeldata   \u001b[39m 1.0.0     \u001b[32m✔\u001b[39m \u001b[34mworkflowsets\u001b[39m 1.0.0\n",
      "\u001b[32m✔\u001b[39m \u001b[34mparsnip     \u001b[39m 1.0.0     \u001b[32m✔\u001b[39m \u001b[34myardstick   \u001b[39m 1.0.0\n",
      "\u001b[32m✔\u001b[39m \u001b[34mrecipes     \u001b[39m 1.0.1     \n",
      "\n",
      "── \u001b[1mConflicts\u001b[22m ───────────────────────────────────────── tidymodels_conflicts() ──\n",
      "\u001b[31m✖\u001b[39m \u001b[34mscales\u001b[39m::\u001b[32mdiscard()\u001b[39m masks \u001b[34mpurrr\u001b[39m::discard()\n",
      "\u001b[31m✖\u001b[39m \u001b[34mdplyr\u001b[39m::\u001b[32mfilter()\u001b[39m   masks \u001b[34mstats\u001b[39m::filter()\n",
      "\u001b[31m✖\u001b[39m \u001b[34mrecipes\u001b[39m::\u001b[32mfixed()\u001b[39m  masks \u001b[34mstringr\u001b[39m::fixed()\n",
      "\u001b[31m✖\u001b[39m \u001b[34mdplyr\u001b[39m::\u001b[32mlag()\u001b[39m      masks \u001b[34mstats\u001b[39m::lag()\n",
      "\u001b[31m✖\u001b[39m \u001b[34myardstick\u001b[39m::\u001b[32mspec()\u001b[39m masks \u001b[34mreadr\u001b[39m::spec()\n",
      "\u001b[31m✖\u001b[39m \u001b[34mrecipes\u001b[39m::\u001b[32mstep()\u001b[39m   masks \u001b[34mstats\u001b[39m::step()\n",
      "\u001b[34m•\u001b[39m Use suppressPackageStartupMessages() to eliminate package startup messages\n",
      "\n",
      "Warning message in file(filename, \"r\", encoding = encoding):\n",
      "“cannot open file 'tests.R': No such file or directory”\n"
     ]
    },
    {
     "ename": "ERROR",
     "evalue": "Error in file(filename, \"r\", encoding = encoding): cannot open the connection\n",
     "output_type": "error",
     "traceback": [
      "Error in file(filename, \"r\", encoding = encoding): cannot open the connection\nTraceback:\n",
      "1. source(\"tests.R\")",
      "2. file(filename, \"r\", encoding = encoding)"
     ]
    }
   ],
   "source": [
    "### Run this cell before continuing.\n",
    "library(tidyverse)\n",
    "library(repr)\n",
    "library(tidymodels)\n",
    "options(repr.matrix.max.rows = 6)\n",
    "source('tests.R')\n",
    "source('cleanup.R')"
   ]
  },
  {
   "cell_type": "code",
   "execution_count": 2,
   "id": "f1e51d64-d9a2-4cc0-8ae3-9409a8b8c7c9",
   "metadata": {},
   "outputs": [
    {
     "name": "stderr",
     "output_type": "stream",
     "text": [
      "\u001b[1mRows: \u001b[22m\u001b[34m374\u001b[39m \u001b[1mColumns: \u001b[22m\u001b[34m13\u001b[39m\n",
      "\u001b[36m──\u001b[39m \u001b[1mColumn specification\u001b[22m \u001b[36m────────────────────────────────────────────────────────\u001b[39m\n",
      "\u001b[1mDelimiter:\u001b[22m \",\"\n",
      "\u001b[31mchr\u001b[39m (5): Gender, Occupation, BMI Category, Blood Pressure, Sleep Disorder\n",
      "\u001b[32mdbl\u001b[39m (8): Person ID, Age, Sleep Duration, Quality of Sleep, Physical Activity...\n",
      "\n",
      "\u001b[36mℹ\u001b[39m Use `spec()` to retrieve the full column specification for this data.\n",
      "\u001b[36mℹ\u001b[39m Specify the column types or set `show_col_types = FALSE` to quiet this message.\n"
     ]
    },
    {
     "data": {
      "text/html": [
       "<table class=\"dataframe\">\n",
       "<caption>A spec_tbl_df: 374 × 13</caption>\n",
       "<thead>\n",
       "\t<tr><th scope=col>Person ID</th><th scope=col>Gender</th><th scope=col>Age</th><th scope=col>Occupation</th><th scope=col>Sleep Duration</th><th scope=col>Quality of Sleep</th><th scope=col>Physical Activity Level</th><th scope=col>Stress Level</th><th scope=col>BMI Category</th><th scope=col>Blood Pressure</th><th scope=col>Heart Rate</th><th scope=col>Daily Steps</th><th scope=col>Sleep Disorder</th></tr>\n",
       "\t<tr><th scope=col>&lt;dbl&gt;</th><th scope=col>&lt;chr&gt;</th><th scope=col>&lt;dbl&gt;</th><th scope=col>&lt;chr&gt;</th><th scope=col>&lt;dbl&gt;</th><th scope=col>&lt;dbl&gt;</th><th scope=col>&lt;dbl&gt;</th><th scope=col>&lt;dbl&gt;</th><th scope=col>&lt;chr&gt;</th><th scope=col>&lt;chr&gt;</th><th scope=col>&lt;dbl&gt;</th><th scope=col>&lt;dbl&gt;</th><th scope=col>&lt;chr&gt;</th></tr>\n",
       "</thead>\n",
       "<tbody>\n",
       "\t<tr><td>1</td><td>Male</td><td>27</td><td>Software Engineer</td><td>6.1</td><td>6</td><td>42</td><td>6</td><td>Overweight</td><td>126/83</td><td>77</td><td> 4200</td><td>None</td></tr>\n",
       "\t<tr><td>2</td><td>Male</td><td>28</td><td>Doctor           </td><td>6.2</td><td>6</td><td>60</td><td>8</td><td>Normal    </td><td>125/80</td><td>75</td><td>10000</td><td>None</td></tr>\n",
       "\t<tr><td>3</td><td>Male</td><td>28</td><td>Doctor           </td><td>6.2</td><td>6</td><td>60</td><td>8</td><td>Normal    </td><td>125/80</td><td>75</td><td>10000</td><td>None</td></tr>\n",
       "\t<tr><td>⋮</td><td>⋮</td><td>⋮</td><td>⋮</td><td>⋮</td><td>⋮</td><td>⋮</td><td>⋮</td><td>⋮</td><td>⋮</td><td>⋮</td><td>⋮</td><td>⋮</td></tr>\n",
       "\t<tr><td>372</td><td>Female</td><td>59</td><td>Nurse</td><td>8.1</td><td>9</td><td>75</td><td>3</td><td>Overweight</td><td>140/95</td><td>68</td><td>7000</td><td>Sleep Apnea</td></tr>\n",
       "\t<tr><td>373</td><td>Female</td><td>59</td><td>Nurse</td><td>8.1</td><td>9</td><td>75</td><td>3</td><td>Overweight</td><td>140/95</td><td>68</td><td>7000</td><td>Sleep Apnea</td></tr>\n",
       "\t<tr><td>374</td><td>Female</td><td>59</td><td>Nurse</td><td>8.1</td><td>9</td><td>75</td><td>3</td><td>Overweight</td><td>140/95</td><td>68</td><td>7000</td><td>Sleep Apnea</td></tr>\n",
       "</tbody>\n",
       "</table>\n"
      ],
      "text/latex": [
       "A spec\\_tbl\\_df: 374 × 13\n",
       "\\begin{tabular}{lllllllllllll}\n",
       " Person ID & Gender & Age & Occupation & Sleep Duration & Quality of Sleep & Physical Activity Level & Stress Level & BMI Category & Blood Pressure & Heart Rate & Daily Steps & Sleep Disorder\\\\\n",
       " <dbl> & <chr> & <dbl> & <chr> & <dbl> & <dbl> & <dbl> & <dbl> & <chr> & <chr> & <dbl> & <dbl> & <chr>\\\\\n",
       "\\hline\n",
       "\t 1 & Male & 27 & Software Engineer & 6.1 & 6 & 42 & 6 & Overweight & 126/83 & 77 &  4200 & None\\\\\n",
       "\t 2 & Male & 28 & Doctor            & 6.2 & 6 & 60 & 8 & Normal     & 125/80 & 75 & 10000 & None\\\\\n",
       "\t 3 & Male & 28 & Doctor            & 6.2 & 6 & 60 & 8 & Normal     & 125/80 & 75 & 10000 & None\\\\\n",
       "\t ⋮ & ⋮ & ⋮ & ⋮ & ⋮ & ⋮ & ⋮ & ⋮ & ⋮ & ⋮ & ⋮ & ⋮ & ⋮\\\\\n",
       "\t 372 & Female & 59 & Nurse & 8.1 & 9 & 75 & 3 & Overweight & 140/95 & 68 & 7000 & Sleep Apnea\\\\\n",
       "\t 373 & Female & 59 & Nurse & 8.1 & 9 & 75 & 3 & Overweight & 140/95 & 68 & 7000 & Sleep Apnea\\\\\n",
       "\t 374 & Female & 59 & Nurse & 8.1 & 9 & 75 & 3 & Overweight & 140/95 & 68 & 7000 & Sleep Apnea\\\\\n",
       "\\end{tabular}\n"
      ],
      "text/markdown": [
       "\n",
       "A spec_tbl_df: 374 × 13\n",
       "\n",
       "| Person ID &lt;dbl&gt; | Gender &lt;chr&gt; | Age &lt;dbl&gt; | Occupation &lt;chr&gt; | Sleep Duration &lt;dbl&gt; | Quality of Sleep &lt;dbl&gt; | Physical Activity Level &lt;dbl&gt; | Stress Level &lt;dbl&gt; | BMI Category &lt;chr&gt; | Blood Pressure &lt;chr&gt; | Heart Rate &lt;dbl&gt; | Daily Steps &lt;dbl&gt; | Sleep Disorder &lt;chr&gt; |\n",
       "|---|---|---|---|---|---|---|---|---|---|---|---|---|\n",
       "| 1 | Male | 27 | Software Engineer | 6.1 | 6 | 42 | 6 | Overweight | 126/83 | 77 |  4200 | None |\n",
       "| 2 | Male | 28 | Doctor            | 6.2 | 6 | 60 | 8 | Normal     | 125/80 | 75 | 10000 | None |\n",
       "| 3 | Male | 28 | Doctor            | 6.2 | 6 | 60 | 8 | Normal     | 125/80 | 75 | 10000 | None |\n",
       "| ⋮ | ⋮ | ⋮ | ⋮ | ⋮ | ⋮ | ⋮ | ⋮ | ⋮ | ⋮ | ⋮ | ⋮ | ⋮ |\n",
       "| 372 | Female | 59 | Nurse | 8.1 | 9 | 75 | 3 | Overweight | 140/95 | 68 | 7000 | Sleep Apnea |\n",
       "| 373 | Female | 59 | Nurse | 8.1 | 9 | 75 | 3 | Overweight | 140/95 | 68 | 7000 | Sleep Apnea |\n",
       "| 374 | Female | 59 | Nurse | 8.1 | 9 | 75 | 3 | Overweight | 140/95 | 68 | 7000 | Sleep Apnea |\n",
       "\n"
      ],
      "text/plain": [
       "    Person ID Gender Age Occupation        Sleep Duration Quality of Sleep\n",
       "1   1         Male   27  Software Engineer 6.1            6               \n",
       "2   2         Male   28  Doctor            6.2            6               \n",
       "3   3         Male   28  Doctor            6.2            6               \n",
       "⋮   ⋮         ⋮      ⋮   ⋮                 ⋮              ⋮               \n",
       "372 372       Female 59  Nurse             8.1            9               \n",
       "373 373       Female 59  Nurse             8.1            9               \n",
       "374 374       Female 59  Nurse             8.1            9               \n",
       "    Physical Activity Level Stress Level BMI Category Blood Pressure Heart Rate\n",
       "1   42                      6            Overweight   126/83         77        \n",
       "2   60                      8            Normal       125/80         75        \n",
       "3   60                      8            Normal       125/80         75        \n",
       "⋮   ⋮                       ⋮            ⋮            ⋮              ⋮         \n",
       "372 75                      3            Overweight   140/95         68        \n",
       "373 75                      3            Overweight   140/95         68        \n",
       "374 75                      3            Overweight   140/95         68        \n",
       "    Daily Steps Sleep Disorder\n",
       "1    4200       None          \n",
       "2   10000       None          \n",
       "3   10000       None          \n",
       "⋮   ⋮           ⋮             \n",
       "372 7000        Sleep Apnea   \n",
       "373 7000        Sleep Apnea   \n",
       "374 7000        Sleep Apnea   "
      ]
     },
     "metadata": {},
     "output_type": "display_data"
    }
   ],
   "source": [
    "# Reading dataset into R\n",
    "sleep <- read_csv(\"Sleep_health_and_lifestyle_dataset.csv\")\n",
    "sleep"
   ]
  },
  {
   "cell_type": "code",
   "execution_count": 3,
   "id": "677c5a28-33a9-4cfc-bee9-55ee92c6a2d7",
   "metadata": {},
   "outputs": [
    {
     "data": {
      "text/html": [
       "<table class=\"dataframe\">\n",
       "<caption>A spec_tbl_df: 374 × 13</caption>\n",
       "<thead>\n",
       "\t<tr><th scope=col>Person_ID</th><th scope=col>Gender</th><th scope=col>Age</th><th scope=col>Occupation</th><th scope=col>Sleep_Duration</th><th scope=col>Quality_of_sleep</th><th scope=col>Physical_Activity_Level</th><th scope=col>Stress_Level</th><th scope=col>BMI</th><th scope=col>Blood_Pressure</th><th scope=col>Heart_Rate</th><th scope=col>Daily_steps</th><th scope=col>Sleep_disorder</th></tr>\n",
       "\t<tr><th scope=col>&lt;dbl&gt;</th><th scope=col>&lt;chr&gt;</th><th scope=col>&lt;dbl&gt;</th><th scope=col>&lt;chr&gt;</th><th scope=col>&lt;dbl&gt;</th><th scope=col>&lt;dbl&gt;</th><th scope=col>&lt;dbl&gt;</th><th scope=col>&lt;dbl&gt;</th><th scope=col>&lt;chr&gt;</th><th scope=col>&lt;chr&gt;</th><th scope=col>&lt;dbl&gt;</th><th scope=col>&lt;dbl&gt;</th><th scope=col>&lt;chr&gt;</th></tr>\n",
       "</thead>\n",
       "<tbody>\n",
       "\t<tr><td>1</td><td>Male</td><td>27</td><td>Software Engineer</td><td>6.1</td><td>6</td><td>42</td><td>6</td><td>Overweight</td><td>126/83</td><td>77</td><td> 4200</td><td>None</td></tr>\n",
       "\t<tr><td>2</td><td>Male</td><td>28</td><td>Doctor           </td><td>6.2</td><td>6</td><td>60</td><td>8</td><td>Normal    </td><td>125/80</td><td>75</td><td>10000</td><td>None</td></tr>\n",
       "\t<tr><td>3</td><td>Male</td><td>28</td><td>Doctor           </td><td>6.2</td><td>6</td><td>60</td><td>8</td><td>Normal    </td><td>125/80</td><td>75</td><td>10000</td><td>None</td></tr>\n",
       "\t<tr><td>⋮</td><td>⋮</td><td>⋮</td><td>⋮</td><td>⋮</td><td>⋮</td><td>⋮</td><td>⋮</td><td>⋮</td><td>⋮</td><td>⋮</td><td>⋮</td><td>⋮</td></tr>\n",
       "\t<tr><td>372</td><td>Female</td><td>59</td><td>Nurse</td><td>8.1</td><td>9</td><td>75</td><td>3</td><td>Overweight</td><td>140/95</td><td>68</td><td>7000</td><td>Sleep Apnea</td></tr>\n",
       "\t<tr><td>373</td><td>Female</td><td>59</td><td>Nurse</td><td>8.1</td><td>9</td><td>75</td><td>3</td><td>Overweight</td><td>140/95</td><td>68</td><td>7000</td><td>Sleep Apnea</td></tr>\n",
       "\t<tr><td>374</td><td>Female</td><td>59</td><td>Nurse</td><td>8.1</td><td>9</td><td>75</td><td>3</td><td>Overweight</td><td>140/95</td><td>68</td><td>7000</td><td>Sleep Apnea</td></tr>\n",
       "</tbody>\n",
       "</table>\n"
      ],
      "text/latex": [
       "A spec\\_tbl\\_df: 374 × 13\n",
       "\\begin{tabular}{lllllllllllll}\n",
       " Person\\_ID & Gender & Age & Occupation & Sleep\\_Duration & Quality\\_of\\_sleep & Physical\\_Activity\\_Level & Stress\\_Level & BMI & Blood\\_Pressure & Heart\\_Rate & Daily\\_steps & Sleep\\_disorder\\\\\n",
       " <dbl> & <chr> & <dbl> & <chr> & <dbl> & <dbl> & <dbl> & <dbl> & <chr> & <chr> & <dbl> & <dbl> & <chr>\\\\\n",
       "\\hline\n",
       "\t 1 & Male & 27 & Software Engineer & 6.1 & 6 & 42 & 6 & Overweight & 126/83 & 77 &  4200 & None\\\\\n",
       "\t 2 & Male & 28 & Doctor            & 6.2 & 6 & 60 & 8 & Normal     & 125/80 & 75 & 10000 & None\\\\\n",
       "\t 3 & Male & 28 & Doctor            & 6.2 & 6 & 60 & 8 & Normal     & 125/80 & 75 & 10000 & None\\\\\n",
       "\t ⋮ & ⋮ & ⋮ & ⋮ & ⋮ & ⋮ & ⋮ & ⋮ & ⋮ & ⋮ & ⋮ & ⋮ & ⋮\\\\\n",
       "\t 372 & Female & 59 & Nurse & 8.1 & 9 & 75 & 3 & Overweight & 140/95 & 68 & 7000 & Sleep Apnea\\\\\n",
       "\t 373 & Female & 59 & Nurse & 8.1 & 9 & 75 & 3 & Overweight & 140/95 & 68 & 7000 & Sleep Apnea\\\\\n",
       "\t 374 & Female & 59 & Nurse & 8.1 & 9 & 75 & 3 & Overweight & 140/95 & 68 & 7000 & Sleep Apnea\\\\\n",
       "\\end{tabular}\n"
      ],
      "text/markdown": [
       "\n",
       "A spec_tbl_df: 374 × 13\n",
       "\n",
       "| Person_ID &lt;dbl&gt; | Gender &lt;chr&gt; | Age &lt;dbl&gt; | Occupation &lt;chr&gt; | Sleep_Duration &lt;dbl&gt; | Quality_of_sleep &lt;dbl&gt; | Physical_Activity_Level &lt;dbl&gt; | Stress_Level &lt;dbl&gt; | BMI &lt;chr&gt; | Blood_Pressure &lt;chr&gt; | Heart_Rate &lt;dbl&gt; | Daily_steps &lt;dbl&gt; | Sleep_disorder &lt;chr&gt; |\n",
       "|---|---|---|---|---|---|---|---|---|---|---|---|---|\n",
       "| 1 | Male | 27 | Software Engineer | 6.1 | 6 | 42 | 6 | Overweight | 126/83 | 77 |  4200 | None |\n",
       "| 2 | Male | 28 | Doctor            | 6.2 | 6 | 60 | 8 | Normal     | 125/80 | 75 | 10000 | None |\n",
       "| 3 | Male | 28 | Doctor            | 6.2 | 6 | 60 | 8 | Normal     | 125/80 | 75 | 10000 | None |\n",
       "| ⋮ | ⋮ | ⋮ | ⋮ | ⋮ | ⋮ | ⋮ | ⋮ | ⋮ | ⋮ | ⋮ | ⋮ | ⋮ |\n",
       "| 372 | Female | 59 | Nurse | 8.1 | 9 | 75 | 3 | Overweight | 140/95 | 68 | 7000 | Sleep Apnea |\n",
       "| 373 | Female | 59 | Nurse | 8.1 | 9 | 75 | 3 | Overweight | 140/95 | 68 | 7000 | Sleep Apnea |\n",
       "| 374 | Female | 59 | Nurse | 8.1 | 9 | 75 | 3 | Overweight | 140/95 | 68 | 7000 | Sleep Apnea |\n",
       "\n"
      ],
      "text/plain": [
       "    Person_ID Gender Age Occupation        Sleep_Duration Quality_of_sleep\n",
       "1   1         Male   27  Software Engineer 6.1            6               \n",
       "2   2         Male   28  Doctor            6.2            6               \n",
       "3   3         Male   28  Doctor            6.2            6               \n",
       "⋮   ⋮         ⋮      ⋮   ⋮                 ⋮              ⋮               \n",
       "372 372       Female 59  Nurse             8.1            9               \n",
       "373 373       Female 59  Nurse             8.1            9               \n",
       "374 374       Female 59  Nurse             8.1            9               \n",
       "    Physical_Activity_Level Stress_Level BMI        Blood_Pressure Heart_Rate\n",
       "1   42                      6            Overweight 126/83         77        \n",
       "2   60                      8            Normal     125/80         75        \n",
       "3   60                      8            Normal     125/80         75        \n",
       "⋮   ⋮                       ⋮            ⋮          ⋮              ⋮         \n",
       "372 75                      3            Overweight 140/95         68        \n",
       "373 75                      3            Overweight 140/95         68        \n",
       "374 75                      3            Overweight 140/95         68        \n",
       "    Daily_steps Sleep_disorder\n",
       "1    4200       None          \n",
       "2   10000       None          \n",
       "3   10000       None          \n",
       "⋮   ⋮           ⋮             \n",
       "372 7000        Sleep Apnea   \n",
       "373 7000        Sleep Apnea   \n",
       "374 7000        Sleep Apnea   "
      ]
     },
     "metadata": {},
     "output_type": "display_data"
    }
   ],
   "source": [
    "# Renaming variable names\n",
    "colnames(sleep) <- c(\"Person_ID\", \"Gender\", \"Age\", \"Occupation\", \"Sleep_Duration\", \"Quality_of_sleep\", \"Physical_Activity_Level\", \"Stress_Level\", \"BMI\", \"Blood_Pressure\", \"Heart_Rate\", \"Daily_steps\", \"Sleep_disorder\")\n",
    "sleep"
   ]
  },
  {
   "cell_type": "code",
   "execution_count": 5,
   "id": "9ec4f2f0-9e24-400f-b989-962a599c9bad",
   "metadata": {},
   "outputs": [
    {
     "data": {
      "text/html": [
       "<table class=\"dataframe\">\n",
       "<caption>A tibble: 374 × 8</caption>\n",
       "<thead>\n",
       "\t<tr><th scope=col>Age</th><th scope=col>Sleep_Duration</th><th scope=col>Quality_of_sleep</th><th scope=col>Physical_Activity_Level</th><th scope=col>Stress_Level</th><th scope=col>Heart_Rate</th><th scope=col>Daily_steps</th><th scope=col>Sleep_disorder</th></tr>\n",
       "\t<tr><th scope=col>&lt;dbl&gt;</th><th scope=col>&lt;dbl&gt;</th><th scope=col>&lt;dbl&gt;</th><th scope=col>&lt;dbl&gt;</th><th scope=col>&lt;dbl&gt;</th><th scope=col>&lt;dbl&gt;</th><th scope=col>&lt;dbl&gt;</th><th scope=col>&lt;chr&gt;</th></tr>\n",
       "</thead>\n",
       "<tbody>\n",
       "\t<tr><td>27</td><td>6.1</td><td>6</td><td>42</td><td>6</td><td>77</td><td> 4200</td><td>None</td></tr>\n",
       "\t<tr><td>28</td><td>6.2</td><td>6</td><td>60</td><td>8</td><td>75</td><td>10000</td><td>None</td></tr>\n",
       "\t<tr><td>28</td><td>6.2</td><td>6</td><td>60</td><td>8</td><td>75</td><td>10000</td><td>None</td></tr>\n",
       "\t<tr><td>⋮</td><td>⋮</td><td>⋮</td><td>⋮</td><td>⋮</td><td>⋮</td><td>⋮</td><td>⋮</td></tr>\n",
       "\t<tr><td>59</td><td>8.1</td><td>9</td><td>75</td><td>3</td><td>68</td><td>7000</td><td>Sleep Apnea</td></tr>\n",
       "\t<tr><td>59</td><td>8.1</td><td>9</td><td>75</td><td>3</td><td>68</td><td>7000</td><td>Sleep Apnea</td></tr>\n",
       "\t<tr><td>59</td><td>8.1</td><td>9</td><td>75</td><td>3</td><td>68</td><td>7000</td><td>Sleep Apnea</td></tr>\n",
       "</tbody>\n",
       "</table>\n"
      ],
      "text/latex": [
       "A tibble: 374 × 8\n",
       "\\begin{tabular}{llllllll}\n",
       " Age & Sleep\\_Duration & Quality\\_of\\_sleep & Physical\\_Activity\\_Level & Stress\\_Level & Heart\\_Rate & Daily\\_steps & Sleep\\_disorder\\\\\n",
       " <dbl> & <dbl> & <dbl> & <dbl> & <dbl> & <dbl> & <dbl> & <chr>\\\\\n",
       "\\hline\n",
       "\t 27 & 6.1 & 6 & 42 & 6 & 77 &  4200 & None\\\\\n",
       "\t 28 & 6.2 & 6 & 60 & 8 & 75 & 10000 & None\\\\\n",
       "\t 28 & 6.2 & 6 & 60 & 8 & 75 & 10000 & None\\\\\n",
       "\t ⋮ & ⋮ & ⋮ & ⋮ & ⋮ & ⋮ & ⋮ & ⋮\\\\\n",
       "\t 59 & 8.1 & 9 & 75 & 3 & 68 & 7000 & Sleep Apnea\\\\\n",
       "\t 59 & 8.1 & 9 & 75 & 3 & 68 & 7000 & Sleep Apnea\\\\\n",
       "\t 59 & 8.1 & 9 & 75 & 3 & 68 & 7000 & Sleep Apnea\\\\\n",
       "\\end{tabular}\n"
      ],
      "text/markdown": [
       "\n",
       "A tibble: 374 × 8\n",
       "\n",
       "| Age &lt;dbl&gt; | Sleep_Duration &lt;dbl&gt; | Quality_of_sleep &lt;dbl&gt; | Physical_Activity_Level &lt;dbl&gt; | Stress_Level &lt;dbl&gt; | Heart_Rate &lt;dbl&gt; | Daily_steps &lt;dbl&gt; | Sleep_disorder &lt;chr&gt; |\n",
       "|---|---|---|---|---|---|---|---|\n",
       "| 27 | 6.1 | 6 | 42 | 6 | 77 |  4200 | None |\n",
       "| 28 | 6.2 | 6 | 60 | 8 | 75 | 10000 | None |\n",
       "| 28 | 6.2 | 6 | 60 | 8 | 75 | 10000 | None |\n",
       "| ⋮ | ⋮ | ⋮ | ⋮ | ⋮ | ⋮ | ⋮ | ⋮ |\n",
       "| 59 | 8.1 | 9 | 75 | 3 | 68 | 7000 | Sleep Apnea |\n",
       "| 59 | 8.1 | 9 | 75 | 3 | 68 | 7000 | Sleep Apnea |\n",
       "| 59 | 8.1 | 9 | 75 | 3 | 68 | 7000 | Sleep Apnea |\n",
       "\n"
      ],
      "text/plain": [
       "    Age Sleep_Duration Quality_of_sleep Physical_Activity_Level Stress_Level\n",
       "1   27  6.1            6                42                      6           \n",
       "2   28  6.2            6                60                      8           \n",
       "3   28  6.2            6                60                      8           \n",
       "⋮   ⋮   ⋮              ⋮                ⋮                       ⋮           \n",
       "372 59  8.1            9                75                      3           \n",
       "373 59  8.1            9                75                      3           \n",
       "374 59  8.1            9                75                      3           \n",
       "    Heart_Rate Daily_steps Sleep_disorder\n",
       "1   77          4200       None          \n",
       "2   75         10000       None          \n",
       "3   75         10000       None          \n",
       "⋮   ⋮          ⋮           ⋮             \n",
       "372 68         7000        Sleep Apnea   \n",
       "373 68         7000        Sleep Apnea   \n",
       "374 68         7000        Sleep Apnea   "
      ]
     },
     "metadata": {},
     "output_type": "display_data"
    }
   ],
   "source": [
    "# Tidied data; selected columns used for analysis\n",
    "sleep_2 <- sleep |>\n",
    "    select(-Person_ID, -Gender, -Occupation, -BMI, -Blood_Pressure)\n",
    "sleep_2"
   ]
  }
 ],
 "metadata": {
  "kernelspec": {
   "display_name": "R",
   "language": "R",
   "name": "ir"
  },
  "language_info": {
   "codemirror_mode": "r",
   "file_extension": ".r",
   "mimetype": "text/x-r-source",
   "name": "R",
   "pygments_lexer": "r",
   "version": "4.1.3"
  }
 },
 "nbformat": 4,
 "nbformat_minor": 5
}
