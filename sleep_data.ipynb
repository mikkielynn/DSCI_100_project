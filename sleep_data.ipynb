{
 "cells": [
  {
   "cell_type": "markdown",
   "id": "1bc98b55-7150-40b9-878c-616a6fe377ff",
   "metadata": {},
   "source": [
    "INTRODUCTION: \n",
    "\n",
    "The dataset presented looks at factors that attribute to having a sleeping disorder. Columns in the data set include sleep duration (hours), quality of sleep (/10), stress(/10), age, number of daily steps, heart rate (beats per minute), physical activity level (/100), etc. Each factor goes into determining if the person survyed has no sleep disorder, insomina or sleep apnea. Insomina is described as when a  individual experiences difficulty falling asleep or staying asleep, leading to inadequate or poor-quality sleep. Moreover, sleep apnea is described as when an individual suffers from pauses in breathing during sleep, resulting in disrupted sleep patterns and potential health risk.\n",
    "\n",
    "The question we will be answering is based on our personal data, does a sleep disorder persist and if so which one? This is an important question for us to explore as we could possible identify and work towards finding a diagnosis for ourselves. This could lead to lifestyle changes that would give us an overall better quailty of life.\n",
    "\n",
    "\n"
   ]
  },
  {
   "cell_type": "code",
   "execution_count": 9,
   "id": "cc7b9dba-93b1-47b3-9256-1e485451657c",
   "metadata": {},
   "outputs": [],
   "source": [
    "### Loading necessary libraries needed to tidy and wrangle our dataset. \n",
    "library(tidyverse)\n",
    "library(repr)\n",
    "library(tidymodels)\n",
    "options(repr.matrix.max.rows = 6)"
   ]
  },
  {
   "cell_type": "markdown",
   "id": "51aebeeb-ac0c-4140-a62e-3d5d335908ca",
   "metadata": {},
   "source": [
    "PRELIMINARY EXPLORATORY DATA ANALYSIS:"
   ]
  },
  {
   "cell_type": "code",
   "execution_count": 10,
   "id": "f1e51d64-d9a2-4cc0-8ae3-9409a8b8c7c9",
   "metadata": {},
   "outputs": [
    {
     "name": "stderr",
     "output_type": "stream",
     "text": [
      "\u001b[1mRows: \u001b[22m\u001b[34m374\u001b[39m \u001b[1mColumns: \u001b[22m\u001b[34m13\u001b[39m\n",
      "\u001b[36m──\u001b[39m \u001b[1mColumn specification\u001b[22m \u001b[36m────────────────────────────────────────────────────────\u001b[39m\n",
      "\u001b[1mDelimiter:\u001b[22m \",\"\n",
      "\u001b[31mchr\u001b[39m (5): Gender, Occupation, BMI Category, Blood Pressure, Sleep Disorder\n",
      "\u001b[32mdbl\u001b[39m (8): Person ID, Age, Sleep Duration, Quality of Sleep, Physical Activity...\n",
      "\n",
      "\u001b[36mℹ\u001b[39m Use `spec()` to retrieve the full column specification for this data.\n",
      "\u001b[36mℹ\u001b[39m Specify the column types or set `show_col_types = FALSE` to quiet this message.\n"
     ]
    },
    {
     "data": {
      "text/html": [
       "<table class=\"dataframe\">\n",
       "<caption>A tibble: 6 × 13</caption>\n",
       "<thead>\n",
       "\t<tr><th scope=col>Person ID</th><th scope=col>Gender</th><th scope=col>Age</th><th scope=col>Occupation</th><th scope=col>Sleep Duration</th><th scope=col>Quality of Sleep</th><th scope=col>Physical Activity Level</th><th scope=col>Stress Level</th><th scope=col>BMI Category</th><th scope=col>Blood Pressure</th><th scope=col>Heart Rate</th><th scope=col>Daily Steps</th><th scope=col>Sleep Disorder</th></tr>\n",
       "\t<tr><th scope=col>&lt;dbl&gt;</th><th scope=col>&lt;chr&gt;</th><th scope=col>&lt;dbl&gt;</th><th scope=col>&lt;chr&gt;</th><th scope=col>&lt;dbl&gt;</th><th scope=col>&lt;dbl&gt;</th><th scope=col>&lt;dbl&gt;</th><th scope=col>&lt;dbl&gt;</th><th scope=col>&lt;chr&gt;</th><th scope=col>&lt;chr&gt;</th><th scope=col>&lt;dbl&gt;</th><th scope=col>&lt;dbl&gt;</th><th scope=col>&lt;chr&gt;</th></tr>\n",
       "</thead>\n",
       "<tbody>\n",
       "\t<tr><td>1</td><td>Male</td><td>27</td><td>Software Engineer   </td><td>6.1</td><td>6</td><td>42</td><td>6</td><td>Overweight</td><td>126/83</td><td>77</td><td> 4200</td><td>None       </td></tr>\n",
       "\t<tr><td>2</td><td>Male</td><td>28</td><td>Doctor              </td><td>6.2</td><td>6</td><td>60</td><td>8</td><td>Normal    </td><td>125/80</td><td>75</td><td>10000</td><td>None       </td></tr>\n",
       "\t<tr><td>3</td><td>Male</td><td>28</td><td>Doctor              </td><td>6.2</td><td>6</td><td>60</td><td>8</td><td>Normal    </td><td>125/80</td><td>75</td><td>10000</td><td>None       </td></tr>\n",
       "\t<tr><td>4</td><td>Male</td><td>28</td><td>Sales Representative</td><td>5.9</td><td>4</td><td>30</td><td>8</td><td>Obese     </td><td>140/90</td><td>85</td><td> 3000</td><td>Sleep Apnea</td></tr>\n",
       "\t<tr><td>5</td><td>Male</td><td>28</td><td>Sales Representative</td><td>5.9</td><td>4</td><td>30</td><td>8</td><td>Obese     </td><td>140/90</td><td>85</td><td> 3000</td><td>Sleep Apnea</td></tr>\n",
       "\t<tr><td>6</td><td>Male</td><td>28</td><td>Software Engineer   </td><td>5.9</td><td>4</td><td>30</td><td>8</td><td>Obese     </td><td>140/90</td><td>85</td><td> 3000</td><td>Insomnia   </td></tr>\n",
       "</tbody>\n",
       "</table>\n"
      ],
      "text/latex": [
       "A tibble: 6 × 13\n",
       "\\begin{tabular}{lllllllllllll}\n",
       " Person ID & Gender & Age & Occupation & Sleep Duration & Quality of Sleep & Physical Activity Level & Stress Level & BMI Category & Blood Pressure & Heart Rate & Daily Steps & Sleep Disorder\\\\\n",
       " <dbl> & <chr> & <dbl> & <chr> & <dbl> & <dbl> & <dbl> & <dbl> & <chr> & <chr> & <dbl> & <dbl> & <chr>\\\\\n",
       "\\hline\n",
       "\t 1 & Male & 27 & Software Engineer    & 6.1 & 6 & 42 & 6 & Overweight & 126/83 & 77 &  4200 & None       \\\\\n",
       "\t 2 & Male & 28 & Doctor               & 6.2 & 6 & 60 & 8 & Normal     & 125/80 & 75 & 10000 & None       \\\\\n",
       "\t 3 & Male & 28 & Doctor               & 6.2 & 6 & 60 & 8 & Normal     & 125/80 & 75 & 10000 & None       \\\\\n",
       "\t 4 & Male & 28 & Sales Representative & 5.9 & 4 & 30 & 8 & Obese      & 140/90 & 85 &  3000 & Sleep Apnea\\\\\n",
       "\t 5 & Male & 28 & Sales Representative & 5.9 & 4 & 30 & 8 & Obese      & 140/90 & 85 &  3000 & Sleep Apnea\\\\\n",
       "\t 6 & Male & 28 & Software Engineer    & 5.9 & 4 & 30 & 8 & Obese      & 140/90 & 85 &  3000 & Insomnia   \\\\\n",
       "\\end{tabular}\n"
      ],
      "text/markdown": [
       "\n",
       "A tibble: 6 × 13\n",
       "\n",
       "| Person ID &lt;dbl&gt; | Gender &lt;chr&gt; | Age &lt;dbl&gt; | Occupation &lt;chr&gt; | Sleep Duration &lt;dbl&gt; | Quality of Sleep &lt;dbl&gt; | Physical Activity Level &lt;dbl&gt; | Stress Level &lt;dbl&gt; | BMI Category &lt;chr&gt; | Blood Pressure &lt;chr&gt; | Heart Rate &lt;dbl&gt; | Daily Steps &lt;dbl&gt; | Sleep Disorder &lt;chr&gt; |\n",
       "|---|---|---|---|---|---|---|---|---|---|---|---|---|\n",
       "| 1 | Male | 27 | Software Engineer    | 6.1 | 6 | 42 | 6 | Overweight | 126/83 | 77 |  4200 | None        |\n",
       "| 2 | Male | 28 | Doctor               | 6.2 | 6 | 60 | 8 | Normal     | 125/80 | 75 | 10000 | None        |\n",
       "| 3 | Male | 28 | Doctor               | 6.2 | 6 | 60 | 8 | Normal     | 125/80 | 75 | 10000 | None        |\n",
       "| 4 | Male | 28 | Sales Representative | 5.9 | 4 | 30 | 8 | Obese      | 140/90 | 85 |  3000 | Sleep Apnea |\n",
       "| 5 | Male | 28 | Sales Representative | 5.9 | 4 | 30 | 8 | Obese      | 140/90 | 85 |  3000 | Sleep Apnea |\n",
       "| 6 | Male | 28 | Software Engineer    | 5.9 | 4 | 30 | 8 | Obese      | 140/90 | 85 |  3000 | Insomnia    |\n",
       "\n"
      ],
      "text/plain": [
       "  Person ID Gender Age Occupation           Sleep Duration Quality of Sleep\n",
       "1 1         Male   27  Software Engineer    6.1            6               \n",
       "2 2         Male   28  Doctor               6.2            6               \n",
       "3 3         Male   28  Doctor               6.2            6               \n",
       "4 4         Male   28  Sales Representative 5.9            4               \n",
       "5 5         Male   28  Sales Representative 5.9            4               \n",
       "6 6         Male   28  Software Engineer    5.9            4               \n",
       "  Physical Activity Level Stress Level BMI Category Blood Pressure Heart Rate\n",
       "1 42                      6            Overweight   126/83         77        \n",
       "2 60                      8            Normal       125/80         75        \n",
       "3 60                      8            Normal       125/80         75        \n",
       "4 30                      8            Obese        140/90         85        \n",
       "5 30                      8            Obese        140/90         85        \n",
       "6 30                      8            Obese        140/90         85        \n",
       "  Daily Steps Sleep Disorder\n",
       "1  4200       None          \n",
       "2 10000       None          \n",
       "3 10000       None          \n",
       "4  3000       Sleep Apnea   \n",
       "5  3000       Sleep Apnea   \n",
       "6  3000       Insomnia      "
      ]
     },
     "metadata": {},
     "output_type": "display_data"
    }
   ],
   "source": [
    "# Reading dataset into R\n",
    "sleep <- read_csv(\"https://raw.githubusercontent.com/mikkielynn/DSCI_100_project/main/Sleep_health_and_lifestyle_dataset.csv\")\n",
    "head(sleep)"
   ]
  },
  {
   "cell_type": "code",
   "execution_count": 11,
   "id": "677c5a28-33a9-4cfc-bee9-55ee92c6a2d7",
   "metadata": {},
   "outputs": [
    {
     "data": {
      "text/html": [
       "<table class=\"dataframe\">\n",
       "<caption>A spec_tbl_df: 374 × 13</caption>\n",
       "<thead>\n",
       "\t<tr><th scope=col>Person_ID</th><th scope=col>Gender</th><th scope=col>Age</th><th scope=col>Occupation</th><th scope=col>Sleep_Duration</th><th scope=col>Quality_of_sleep</th><th scope=col>Physical_Activity_Level</th><th scope=col>Stress_Level</th><th scope=col>BMI</th><th scope=col>Blood_Pressure</th><th scope=col>Heart_Rate</th><th scope=col>Daily_steps</th><th scope=col>Sleep_disorder</th></tr>\n",
       "\t<tr><th scope=col>&lt;dbl&gt;</th><th scope=col>&lt;chr&gt;</th><th scope=col>&lt;dbl&gt;</th><th scope=col>&lt;chr&gt;</th><th scope=col>&lt;dbl&gt;</th><th scope=col>&lt;dbl&gt;</th><th scope=col>&lt;dbl&gt;</th><th scope=col>&lt;dbl&gt;</th><th scope=col>&lt;chr&gt;</th><th scope=col>&lt;chr&gt;</th><th scope=col>&lt;dbl&gt;</th><th scope=col>&lt;dbl&gt;</th><th scope=col>&lt;chr&gt;</th></tr>\n",
       "</thead>\n",
       "<tbody>\n",
       "\t<tr><td>1</td><td>Male</td><td>27</td><td>Software Engineer</td><td>6.1</td><td>6</td><td>42</td><td>6</td><td>Overweight</td><td>126/83</td><td>77</td><td> 4200</td><td>None</td></tr>\n",
       "\t<tr><td>2</td><td>Male</td><td>28</td><td>Doctor           </td><td>6.2</td><td>6</td><td>60</td><td>8</td><td>Normal    </td><td>125/80</td><td>75</td><td>10000</td><td>None</td></tr>\n",
       "\t<tr><td>3</td><td>Male</td><td>28</td><td>Doctor           </td><td>6.2</td><td>6</td><td>60</td><td>8</td><td>Normal    </td><td>125/80</td><td>75</td><td>10000</td><td>None</td></tr>\n",
       "\t<tr><td>⋮</td><td>⋮</td><td>⋮</td><td>⋮</td><td>⋮</td><td>⋮</td><td>⋮</td><td>⋮</td><td>⋮</td><td>⋮</td><td>⋮</td><td>⋮</td><td>⋮</td></tr>\n",
       "\t<tr><td>372</td><td>Female</td><td>59</td><td>Nurse</td><td>8.1</td><td>9</td><td>75</td><td>3</td><td>Overweight</td><td>140/95</td><td>68</td><td>7000</td><td>Sleep Apnea</td></tr>\n",
       "\t<tr><td>373</td><td>Female</td><td>59</td><td>Nurse</td><td>8.1</td><td>9</td><td>75</td><td>3</td><td>Overweight</td><td>140/95</td><td>68</td><td>7000</td><td>Sleep Apnea</td></tr>\n",
       "\t<tr><td>374</td><td>Female</td><td>59</td><td>Nurse</td><td>8.1</td><td>9</td><td>75</td><td>3</td><td>Overweight</td><td>140/95</td><td>68</td><td>7000</td><td>Sleep Apnea</td></tr>\n",
       "</tbody>\n",
       "</table>\n"
      ],
      "text/latex": [
       "A spec\\_tbl\\_df: 374 × 13\n",
       "\\begin{tabular}{lllllllllllll}\n",
       " Person\\_ID & Gender & Age & Occupation & Sleep\\_Duration & Quality\\_of\\_sleep & Physical\\_Activity\\_Level & Stress\\_Level & BMI & Blood\\_Pressure & Heart\\_Rate & Daily\\_steps & Sleep\\_disorder\\\\\n",
       " <dbl> & <chr> & <dbl> & <chr> & <dbl> & <dbl> & <dbl> & <dbl> & <chr> & <chr> & <dbl> & <dbl> & <chr>\\\\\n",
       "\\hline\n",
       "\t 1 & Male & 27 & Software Engineer & 6.1 & 6 & 42 & 6 & Overweight & 126/83 & 77 &  4200 & None\\\\\n",
       "\t 2 & Male & 28 & Doctor            & 6.2 & 6 & 60 & 8 & Normal     & 125/80 & 75 & 10000 & None\\\\\n",
       "\t 3 & Male & 28 & Doctor            & 6.2 & 6 & 60 & 8 & Normal     & 125/80 & 75 & 10000 & None\\\\\n",
       "\t ⋮ & ⋮ & ⋮ & ⋮ & ⋮ & ⋮ & ⋮ & ⋮ & ⋮ & ⋮ & ⋮ & ⋮ & ⋮\\\\\n",
       "\t 372 & Female & 59 & Nurse & 8.1 & 9 & 75 & 3 & Overweight & 140/95 & 68 & 7000 & Sleep Apnea\\\\\n",
       "\t 373 & Female & 59 & Nurse & 8.1 & 9 & 75 & 3 & Overweight & 140/95 & 68 & 7000 & Sleep Apnea\\\\\n",
       "\t 374 & Female & 59 & Nurse & 8.1 & 9 & 75 & 3 & Overweight & 140/95 & 68 & 7000 & Sleep Apnea\\\\\n",
       "\\end{tabular}\n"
      ],
      "text/markdown": [
       "\n",
       "A spec_tbl_df: 374 × 13\n",
       "\n",
       "| Person_ID &lt;dbl&gt; | Gender &lt;chr&gt; | Age &lt;dbl&gt; | Occupation &lt;chr&gt; | Sleep_Duration &lt;dbl&gt; | Quality_of_sleep &lt;dbl&gt; | Physical_Activity_Level &lt;dbl&gt; | Stress_Level &lt;dbl&gt; | BMI &lt;chr&gt; | Blood_Pressure &lt;chr&gt; | Heart_Rate &lt;dbl&gt; | Daily_steps &lt;dbl&gt; | Sleep_disorder &lt;chr&gt; |\n",
       "|---|---|---|---|---|---|---|---|---|---|---|---|---|\n",
       "| 1 | Male | 27 | Software Engineer | 6.1 | 6 | 42 | 6 | Overweight | 126/83 | 77 |  4200 | None |\n",
       "| 2 | Male | 28 | Doctor            | 6.2 | 6 | 60 | 8 | Normal     | 125/80 | 75 | 10000 | None |\n",
       "| 3 | Male | 28 | Doctor            | 6.2 | 6 | 60 | 8 | Normal     | 125/80 | 75 | 10000 | None |\n",
       "| ⋮ | ⋮ | ⋮ | ⋮ | ⋮ | ⋮ | ⋮ | ⋮ | ⋮ | ⋮ | ⋮ | ⋮ | ⋮ |\n",
       "| 372 | Female | 59 | Nurse | 8.1 | 9 | 75 | 3 | Overweight | 140/95 | 68 | 7000 | Sleep Apnea |\n",
       "| 373 | Female | 59 | Nurse | 8.1 | 9 | 75 | 3 | Overweight | 140/95 | 68 | 7000 | Sleep Apnea |\n",
       "| 374 | Female | 59 | Nurse | 8.1 | 9 | 75 | 3 | Overweight | 140/95 | 68 | 7000 | Sleep Apnea |\n",
       "\n"
      ],
      "text/plain": [
       "    Person_ID Gender Age Occupation        Sleep_Duration Quality_of_sleep\n",
       "1   1         Male   27  Software Engineer 6.1            6               \n",
       "2   2         Male   28  Doctor            6.2            6               \n",
       "3   3         Male   28  Doctor            6.2            6               \n",
       "⋮   ⋮         ⋮      ⋮   ⋮                 ⋮              ⋮               \n",
       "372 372       Female 59  Nurse             8.1            9               \n",
       "373 373       Female 59  Nurse             8.1            9               \n",
       "374 374       Female 59  Nurse             8.1            9               \n",
       "    Physical_Activity_Level Stress_Level BMI        Blood_Pressure Heart_Rate\n",
       "1   42                      6            Overweight 126/83         77        \n",
       "2   60                      8            Normal     125/80         75        \n",
       "3   60                      8            Normal     125/80         75        \n",
       "⋮   ⋮                       ⋮            ⋮          ⋮              ⋮         \n",
       "372 75                      3            Overweight 140/95         68        \n",
       "373 75                      3            Overweight 140/95         68        \n",
       "374 75                      3            Overweight 140/95         68        \n",
       "    Daily_steps Sleep_disorder\n",
       "1    4200       None          \n",
       "2   10000       None          \n",
       "3   10000       None          \n",
       "⋮   ⋮           ⋮             \n",
       "372 7000        Sleep Apnea   \n",
       "373 7000        Sleep Apnea   \n",
       "374 7000        Sleep Apnea   "
      ]
     },
     "metadata": {},
     "output_type": "display_data"
    }
   ],
   "source": [
    "# Tidying our dataset: Renaming variable names to make the data easier to work with and apply functions to for manipulation. \n",
    "colnames(sleep) <- c(\"Person_ID\", \"Gender\", \"Age\", \"Occupation\", \"Sleep_Duration\", \"Quality_of_sleep\", \"Physical_Activity_Level\", \"Stress_Level\", \"BMI\", \"Blood_Pressure\", \"Heart_Rate\", \"Daily_steps\", \"Sleep_disorder\")\n",
    "sleep"
   ]
  },
  {
   "cell_type": "markdown",
   "id": "58cf518d-560b-402c-9c6a-a070410527f6",
   "metadata": {},
   "source": [
    "WHICH COLUMNS WE ARE CHOOSING TO ANALYZE AND WHY:"
   ]
  },
  {
   "cell_type": "code",
   "execution_count": 12,
   "id": "9ec4f2f0-9e24-400f-b989-962a599c9bad",
   "metadata": {},
   "outputs": [
    {
     "data": {
      "text/html": [
       "<table class=\"dataframe\">\n",
       "<caption>A tibble: 374 × 8</caption>\n",
       "<thead>\n",
       "\t<tr><th scope=col>Age</th><th scope=col>Sleep_Duration</th><th scope=col>Quality_of_sleep</th><th scope=col>Physical_Activity_Level</th><th scope=col>Stress_Level</th><th scope=col>Heart_Rate</th><th scope=col>Daily_steps</th><th scope=col>Sleep_disorder</th></tr>\n",
       "\t<tr><th scope=col>&lt;dbl&gt;</th><th scope=col>&lt;dbl&gt;</th><th scope=col>&lt;dbl&gt;</th><th scope=col>&lt;dbl&gt;</th><th scope=col>&lt;dbl&gt;</th><th scope=col>&lt;dbl&gt;</th><th scope=col>&lt;dbl&gt;</th><th scope=col>&lt;chr&gt;</th></tr>\n",
       "</thead>\n",
       "<tbody>\n",
       "\t<tr><td>27</td><td>6.1</td><td>6</td><td>42</td><td>6</td><td>77</td><td> 4200</td><td>None</td></tr>\n",
       "\t<tr><td>28</td><td>6.2</td><td>6</td><td>60</td><td>8</td><td>75</td><td>10000</td><td>None</td></tr>\n",
       "\t<tr><td>28</td><td>6.2</td><td>6</td><td>60</td><td>8</td><td>75</td><td>10000</td><td>None</td></tr>\n",
       "\t<tr><td>⋮</td><td>⋮</td><td>⋮</td><td>⋮</td><td>⋮</td><td>⋮</td><td>⋮</td><td>⋮</td></tr>\n",
       "\t<tr><td>59</td><td>8.1</td><td>9</td><td>75</td><td>3</td><td>68</td><td>7000</td><td>Sleep Apnea</td></tr>\n",
       "\t<tr><td>59</td><td>8.1</td><td>9</td><td>75</td><td>3</td><td>68</td><td>7000</td><td>Sleep Apnea</td></tr>\n",
       "\t<tr><td>59</td><td>8.1</td><td>9</td><td>75</td><td>3</td><td>68</td><td>7000</td><td>Sleep Apnea</td></tr>\n",
       "</tbody>\n",
       "</table>\n"
      ],
      "text/latex": [
       "A tibble: 374 × 8\n",
       "\\begin{tabular}{llllllll}\n",
       " Age & Sleep\\_Duration & Quality\\_of\\_sleep & Physical\\_Activity\\_Level & Stress\\_Level & Heart\\_Rate & Daily\\_steps & Sleep\\_disorder\\\\\n",
       " <dbl> & <dbl> & <dbl> & <dbl> & <dbl> & <dbl> & <dbl> & <chr>\\\\\n",
       "\\hline\n",
       "\t 27 & 6.1 & 6 & 42 & 6 & 77 &  4200 & None\\\\\n",
       "\t 28 & 6.2 & 6 & 60 & 8 & 75 & 10000 & None\\\\\n",
       "\t 28 & 6.2 & 6 & 60 & 8 & 75 & 10000 & None\\\\\n",
       "\t ⋮ & ⋮ & ⋮ & ⋮ & ⋮ & ⋮ & ⋮ & ⋮\\\\\n",
       "\t 59 & 8.1 & 9 & 75 & 3 & 68 & 7000 & Sleep Apnea\\\\\n",
       "\t 59 & 8.1 & 9 & 75 & 3 & 68 & 7000 & Sleep Apnea\\\\\n",
       "\t 59 & 8.1 & 9 & 75 & 3 & 68 & 7000 & Sleep Apnea\\\\\n",
       "\\end{tabular}\n"
      ],
      "text/markdown": [
       "\n",
       "A tibble: 374 × 8\n",
       "\n",
       "| Age &lt;dbl&gt; | Sleep_Duration &lt;dbl&gt; | Quality_of_sleep &lt;dbl&gt; | Physical_Activity_Level &lt;dbl&gt; | Stress_Level &lt;dbl&gt; | Heart_Rate &lt;dbl&gt; | Daily_steps &lt;dbl&gt; | Sleep_disorder &lt;chr&gt; |\n",
       "|---|---|---|---|---|---|---|---|\n",
       "| 27 | 6.1 | 6 | 42 | 6 | 77 |  4200 | None |\n",
       "| 28 | 6.2 | 6 | 60 | 8 | 75 | 10000 | None |\n",
       "| 28 | 6.2 | 6 | 60 | 8 | 75 | 10000 | None |\n",
       "| ⋮ | ⋮ | ⋮ | ⋮ | ⋮ | ⋮ | ⋮ | ⋮ |\n",
       "| 59 | 8.1 | 9 | 75 | 3 | 68 | 7000 | Sleep Apnea |\n",
       "| 59 | 8.1 | 9 | 75 | 3 | 68 | 7000 | Sleep Apnea |\n",
       "| 59 | 8.1 | 9 | 75 | 3 | 68 | 7000 | Sleep Apnea |\n",
       "\n"
      ],
      "text/plain": [
       "    Age Sleep_Duration Quality_of_sleep Physical_Activity_Level Stress_Level\n",
       "1   27  6.1            6                42                      6           \n",
       "2   28  6.2            6                60                      8           \n",
       "3   28  6.2            6                60                      8           \n",
       "⋮   ⋮   ⋮              ⋮                ⋮                       ⋮           \n",
       "372 59  8.1            9                75                      3           \n",
       "373 59  8.1            9                75                      3           \n",
       "374 59  8.1            9                75                      3           \n",
       "    Heart_Rate Daily_steps Sleep_disorder\n",
       "1   77          4200       None          \n",
       "2   75         10000       None          \n",
       "3   75         10000       None          \n",
       "⋮   ⋮          ⋮           ⋮             \n",
       "372 68         7000        Sleep Apnea   \n",
       "373 68         7000        Sleep Apnea   \n",
       "374 68         7000        Sleep Apnea   "
      ]
     },
     "metadata": {},
     "output_type": "display_data"
    }
   ],
   "source": [
    "# Tidied data; selected columns used for analysis\n",
    "sleep_2 <- sleep |>\n",
    "    select(-Person_ID, -Gender, -Occupation, -BMI, -Blood_Pressure)\n",
    "sleep_2"
   ]
  },
  {
   "cell_type": "markdown",
   "id": "ff818399-ca74-44df-a3a7-5ea5bf98ef59",
   "metadata": {},
   "source": [
    "- PERFORMING SUMMARY STATISTICS ON OUR TRAINING DATA:"
   ]
  },
  {
   "cell_type": "code",
   "execution_count": 13,
   "id": "4901699a-2bd1-4af9-abd6-07ca7ab413b6",
   "metadata": {},
   "outputs": [
    {
     "data": {
      "text/html": [
       "<table class=\"dataframe\">\n",
       "<caption>A tibble: 186 × 8</caption>\n",
       "<thead>\n",
       "\t<tr><th scope=col>Age</th><th scope=col>Sleep_Duration</th><th scope=col>Quality_of_sleep</th><th scope=col>Physical_Activity_Level</th><th scope=col>Stress_Level</th><th scope=col>Heart_Rate</th><th scope=col>Daily_steps</th><th scope=col>Sleep_disorder</th></tr>\n",
       "\t<tr><th scope=col>&lt;dbl&gt;</th><th scope=col>&lt;dbl&gt;</th><th scope=col>&lt;dbl&gt;</th><th scope=col>&lt;dbl&gt;</th><th scope=col>&lt;dbl&gt;</th><th scope=col>&lt;dbl&gt;</th><th scope=col>&lt;dbl&gt;</th><th scope=col>&lt;chr&gt;</th></tr>\n",
       "</thead>\n",
       "<tbody>\n",
       "\t<tr><td>29</td><td>6.5</td><td>5</td><td>40</td><td>7</td><td>80</td><td>4000</td><td>Insomnia</td></tr>\n",
       "\t<tr><td>33</td><td>6.0</td><td>6</td><td>30</td><td>8</td><td>72</td><td>5000</td><td>Insomnia</td></tr>\n",
       "\t<tr><td>36</td><td>7.2</td><td>8</td><td>60</td><td>4</td><td>68</td><td>7000</td><td>Insomnia</td></tr>\n",
       "\t<tr><td>⋮</td><td>⋮</td><td>⋮</td><td>⋮</td><td>⋮</td><td>⋮</td><td>⋮</td><td>⋮</td></tr>\n",
       "\t<tr><td>59</td><td>8.1</td><td>9</td><td>75</td><td>3</td><td>68</td><td>7000</td><td>Sleep Apnea</td></tr>\n",
       "\t<tr><td>59</td><td>8.1</td><td>9</td><td>75</td><td>3</td><td>68</td><td>7000</td><td>Sleep Apnea</td></tr>\n",
       "\t<tr><td>59</td><td>8.1</td><td>9</td><td>75</td><td>3</td><td>68</td><td>7000</td><td>Sleep Apnea</td></tr>\n",
       "</tbody>\n",
       "</table>\n"
      ],
      "text/latex": [
       "A tibble: 186 × 8\n",
       "\\begin{tabular}{llllllll}\n",
       " Age & Sleep\\_Duration & Quality\\_of\\_sleep & Physical\\_Activity\\_Level & Stress\\_Level & Heart\\_Rate & Daily\\_steps & Sleep\\_disorder\\\\\n",
       " <dbl> & <dbl> & <dbl> & <dbl> & <dbl> & <dbl> & <dbl> & <chr>\\\\\n",
       "\\hline\n",
       "\t 29 & 6.5 & 5 & 40 & 7 & 80 & 4000 & Insomnia\\\\\n",
       "\t 33 & 6.0 & 6 & 30 & 8 & 72 & 5000 & Insomnia\\\\\n",
       "\t 36 & 7.2 & 8 & 60 & 4 & 68 & 7000 & Insomnia\\\\\n",
       "\t ⋮ & ⋮ & ⋮ & ⋮ & ⋮ & ⋮ & ⋮ & ⋮\\\\\n",
       "\t 59 & 8.1 & 9 & 75 & 3 & 68 & 7000 & Sleep Apnea\\\\\n",
       "\t 59 & 8.1 & 9 & 75 & 3 & 68 & 7000 & Sleep Apnea\\\\\n",
       "\t 59 & 8.1 & 9 & 75 & 3 & 68 & 7000 & Sleep Apnea\\\\\n",
       "\\end{tabular}\n"
      ],
      "text/markdown": [
       "\n",
       "A tibble: 186 × 8\n",
       "\n",
       "| Age &lt;dbl&gt; | Sleep_Duration &lt;dbl&gt; | Quality_of_sleep &lt;dbl&gt; | Physical_Activity_Level &lt;dbl&gt; | Stress_Level &lt;dbl&gt; | Heart_Rate &lt;dbl&gt; | Daily_steps &lt;dbl&gt; | Sleep_disorder &lt;chr&gt; |\n",
       "|---|---|---|---|---|---|---|---|\n",
       "| 29 | 6.5 | 5 | 40 | 7 | 80 | 4000 | Insomnia |\n",
       "| 33 | 6.0 | 6 | 30 | 8 | 72 | 5000 | Insomnia |\n",
       "| 36 | 7.2 | 8 | 60 | 4 | 68 | 7000 | Insomnia |\n",
       "| ⋮ | ⋮ | ⋮ | ⋮ | ⋮ | ⋮ | ⋮ | ⋮ |\n",
       "| 59 | 8.1 | 9 | 75 | 3 | 68 | 7000 | Sleep Apnea |\n",
       "| 59 | 8.1 | 9 | 75 | 3 | 68 | 7000 | Sleep Apnea |\n",
       "| 59 | 8.1 | 9 | 75 | 3 | 68 | 7000 | Sleep Apnea |\n",
       "\n"
      ],
      "text/plain": [
       "    Age Sleep_Duration Quality_of_sleep Physical_Activity_Level Stress_Level\n",
       "1   29  6.5            5                40                      7           \n",
       "2   33  6.0            6                30                      8           \n",
       "3   36  7.2            8                60                      4           \n",
       "⋮   ⋮   ⋮              ⋮                ⋮                       ⋮           \n",
       "184 59  8.1            9                75                      3           \n",
       "185 59  8.1            9                75                      3           \n",
       "186 59  8.1            9                75                      3           \n",
       "    Heart_Rate Daily_steps Sleep_disorder\n",
       "1   80         4000        Insomnia      \n",
       "2   72         5000        Insomnia      \n",
       "3   68         7000        Insomnia      \n",
       "⋮   ⋮          ⋮           ⋮             \n",
       "184 68         7000        Sleep Apnea   \n",
       "185 68         7000        Sleep Apnea   \n",
       "186 68         7000        Sleep Apnea   "
      ]
     },
     "metadata": {},
     "output_type": "display_data"
    },
    {
     "data": {
      "text/html": [
       "<table class=\"dataframe\">\n",
       "<caption>A tibble: 188 × 8</caption>\n",
       "<thead>\n",
       "\t<tr><th scope=col>Age</th><th scope=col>Sleep_Duration</th><th scope=col>Quality_of_sleep</th><th scope=col>Physical_Activity_Level</th><th scope=col>Stress_Level</th><th scope=col>Heart_Rate</th><th scope=col>Daily_steps</th><th scope=col>Sleep_disorder</th></tr>\n",
       "\t<tr><th scope=col>&lt;dbl&gt;</th><th scope=col>&lt;dbl&gt;</th><th scope=col>&lt;dbl&gt;</th><th scope=col>&lt;dbl&gt;</th><th scope=col>&lt;dbl&gt;</th><th scope=col>&lt;dbl&gt;</th><th scope=col>&lt;dbl&gt;</th><th scope=col>&lt;chr&gt;</th></tr>\n",
       "</thead>\n",
       "<tbody>\n",
       "\t<tr><td>28</td><td>6.2</td><td>6</td><td>60</td><td>8</td><td>75</td><td>10000</td><td>None       </td></tr>\n",
       "\t<tr><td>28</td><td>6.2</td><td>6</td><td>60</td><td>8</td><td>75</td><td>10000</td><td>None       </td></tr>\n",
       "\t<tr><td>28</td><td>5.9</td><td>4</td><td>30</td><td>8</td><td>85</td><td> 3000</td><td>Sleep Apnea</td></tr>\n",
       "\t<tr><td>⋮</td><td>⋮</td><td>⋮</td><td>⋮</td><td>⋮</td><td>⋮</td><td>⋮</td><td>⋮</td></tr>\n",
       "\t<tr><td>59</td><td>8.1</td><td>9</td><td>75</td><td>3</td><td>68</td><td>7000</td><td>Sleep Apnea</td></tr>\n",
       "\t<tr><td>59</td><td>8.0</td><td>9</td><td>75</td><td>3</td><td>68</td><td>7000</td><td>Sleep Apnea</td></tr>\n",
       "\t<tr><td>59</td><td>8.1</td><td>9</td><td>75</td><td>3</td><td>68</td><td>7000</td><td>Sleep Apnea</td></tr>\n",
       "</tbody>\n",
       "</table>\n"
      ],
      "text/latex": [
       "A tibble: 188 × 8\n",
       "\\begin{tabular}{llllllll}\n",
       " Age & Sleep\\_Duration & Quality\\_of\\_sleep & Physical\\_Activity\\_Level & Stress\\_Level & Heart\\_Rate & Daily\\_steps & Sleep\\_disorder\\\\\n",
       " <dbl> & <dbl> & <dbl> & <dbl> & <dbl> & <dbl> & <dbl> & <chr>\\\\\n",
       "\\hline\n",
       "\t 28 & 6.2 & 6 & 60 & 8 & 75 & 10000 & None       \\\\\n",
       "\t 28 & 6.2 & 6 & 60 & 8 & 75 & 10000 & None       \\\\\n",
       "\t 28 & 5.9 & 4 & 30 & 8 & 85 &  3000 & Sleep Apnea\\\\\n",
       "\t ⋮ & ⋮ & ⋮ & ⋮ & ⋮ & ⋮ & ⋮ & ⋮\\\\\n",
       "\t 59 & 8.1 & 9 & 75 & 3 & 68 & 7000 & Sleep Apnea\\\\\n",
       "\t 59 & 8.0 & 9 & 75 & 3 & 68 & 7000 & Sleep Apnea\\\\\n",
       "\t 59 & 8.1 & 9 & 75 & 3 & 68 & 7000 & Sleep Apnea\\\\\n",
       "\\end{tabular}\n"
      ],
      "text/markdown": [
       "\n",
       "A tibble: 188 × 8\n",
       "\n",
       "| Age &lt;dbl&gt; | Sleep_Duration &lt;dbl&gt; | Quality_of_sleep &lt;dbl&gt; | Physical_Activity_Level &lt;dbl&gt; | Stress_Level &lt;dbl&gt; | Heart_Rate &lt;dbl&gt; | Daily_steps &lt;dbl&gt; | Sleep_disorder &lt;chr&gt; |\n",
       "|---|---|---|---|---|---|---|---|\n",
       "| 28 | 6.2 | 6 | 60 | 8 | 75 | 10000 | None        |\n",
       "| 28 | 6.2 | 6 | 60 | 8 | 75 | 10000 | None        |\n",
       "| 28 | 5.9 | 4 | 30 | 8 | 85 |  3000 | Sleep Apnea |\n",
       "| ⋮ | ⋮ | ⋮ | ⋮ | ⋮ | ⋮ | ⋮ | ⋮ |\n",
       "| 59 | 8.1 | 9 | 75 | 3 | 68 | 7000 | Sleep Apnea |\n",
       "| 59 | 8.0 | 9 | 75 | 3 | 68 | 7000 | Sleep Apnea |\n",
       "| 59 | 8.1 | 9 | 75 | 3 | 68 | 7000 | Sleep Apnea |\n",
       "\n"
      ],
      "text/plain": [
       "    Age Sleep_Duration Quality_of_sleep Physical_Activity_Level Stress_Level\n",
       "1   28  6.2            6                60                      8           \n",
       "2   28  6.2            6                60                      8           \n",
       "3   28  5.9            4                30                      8           \n",
       "⋮   ⋮   ⋮              ⋮                ⋮                       ⋮           \n",
       "186 59  8.1            9                75                      3           \n",
       "187 59  8.0            9                75                      3           \n",
       "188 59  8.1            9                75                      3           \n",
       "    Heart_Rate Daily_steps Sleep_disorder\n",
       "1   75         10000       None          \n",
       "2   75         10000       None          \n",
       "3   85          3000       Sleep Apnea   \n",
       "⋮   ⋮          ⋮           ⋮             \n",
       "186 68         7000        Sleep Apnea   \n",
       "187 68         7000        Sleep Apnea   \n",
       "188 68         7000        Sleep Apnea   "
      ]
     },
     "metadata": {},
     "output_type": "display_data"
    },
    {
     "data": {
      "text/html": [
       "<table class=\"dataframe\">\n",
       "<caption>A tibble: 3 × 2</caption>\n",
       "<thead>\n",
       "\t<tr><th scope=col>Sleep_disorder</th><th scope=col>n</th></tr>\n",
       "\t<tr><th scope=col>&lt;chr&gt;</th><th scope=col>&lt;int&gt;</th></tr>\n",
       "</thead>\n",
       "<tbody>\n",
       "\t<tr><td>Insomnia   </td><td> 38</td></tr>\n",
       "\t<tr><td>None       </td><td>109</td></tr>\n",
       "\t<tr><td>Sleep Apnea</td><td> 39</td></tr>\n",
       "</tbody>\n",
       "</table>\n"
      ],
      "text/latex": [
       "A tibble: 3 × 2\n",
       "\\begin{tabular}{ll}\n",
       " Sleep\\_disorder & n\\\\\n",
       " <chr> & <int>\\\\\n",
       "\\hline\n",
       "\t Insomnia    &  38\\\\\n",
       "\t None        & 109\\\\\n",
       "\t Sleep Apnea &  39\\\\\n",
       "\\end{tabular}\n"
      ],
      "text/markdown": [
       "\n",
       "A tibble: 3 × 2\n",
       "\n",
       "| Sleep_disorder &lt;chr&gt; | n &lt;int&gt; |\n",
       "|---|---|\n",
       "| Insomnia    |  38 |\n",
       "| None        | 109 |\n",
       "| Sleep Apnea |  39 |\n",
       "\n"
      ],
      "text/plain": [
       "  Sleep_disorder n  \n",
       "1 Insomnia        38\n",
       "2 None           109\n",
       "3 Sleep Apnea     39"
      ]
     },
     "metadata": {},
     "output_type": "display_data"
    },
    {
     "data": {
      "text/html": [
       "<table class=\"dataframe\">\n",
       "<caption>A tibble: 3 × 2</caption>\n",
       "<thead>\n",
       "\t<tr><th scope=col>Sleep_disorder</th><th scope=col>n</th></tr>\n",
       "\t<tr><th scope=col>&lt;chr&gt;</th><th scope=col>&lt;int&gt;</th></tr>\n",
       "</thead>\n",
       "<tbody>\n",
       "\t<tr><td>Insomnia   </td><td> 39</td></tr>\n",
       "\t<tr><td>None       </td><td>110</td></tr>\n",
       "\t<tr><td>Sleep Apnea</td><td> 39</td></tr>\n",
       "</tbody>\n",
       "</table>\n"
      ],
      "text/latex": [
       "A tibble: 3 × 2\n",
       "\\begin{tabular}{ll}\n",
       " Sleep\\_disorder & n\\\\\n",
       " <chr> & <int>\\\\\n",
       "\\hline\n",
       "\t Insomnia    &  39\\\\\n",
       "\t None        & 110\\\\\n",
       "\t Sleep Apnea &  39\\\\\n",
       "\\end{tabular}\n"
      ],
      "text/markdown": [
       "\n",
       "A tibble: 3 × 2\n",
       "\n",
       "| Sleep_disorder &lt;chr&gt; | n &lt;int&gt; |\n",
       "|---|---|\n",
       "| Insomnia    |  39 |\n",
       "| None        | 110 |\n",
       "| Sleep Apnea |  39 |\n",
       "\n"
      ],
      "text/plain": [
       "  Sleep_disorder n  \n",
       "1 Insomnia        39\n",
       "2 None           110\n",
       "3 Sleep Apnea     39"
      ]
     },
     "metadata": {},
     "output_type": "display_data"
    }
   ],
   "source": [
    "#splitting our data into a testing set and a training set\n",
    "sleep_split <- initial_split(sleep_2, prop = 0.5, strata = Sleep_disorder)\n",
    "sleep_train <- training(sleep_split)\n",
    "sleep_test <- testing(sleep_split)\n",
    "sleep_train     \n",
    "sleep_test\n",
    "\n",
    "#ensuring we have equal proportions of the different lables for the sleep disorder\n",
    "sleep_train |>\n",
    "    count(Sleep_disorder)\n",
    "\n",
    "sleep_test |>\n",
    "    count(Sleep_disorder)"
   ]
  },
  {
   "cell_type": "code",
   "execution_count": 14,
   "id": "b6afdcb4-95e7-4894-b72a-48b089b21cbb",
   "metadata": {},
   "outputs": [
    {
     "data": {
      "text/html": [
       "<table class=\"dataframe\">\n",
       "<caption>A tibble: 3 × 3</caption>\n",
       "<thead>\n",
       "\t<tr><th scope=col>Sleep_disorder</th><th scope=col>count</th><th scope=col>percentage</th></tr>\n",
       "\t<tr><th scope=col>&lt;chr&gt;</th><th scope=col>&lt;int&gt;</th><th scope=col>&lt;dbl&gt;</th></tr>\n",
       "</thead>\n",
       "<tbody>\n",
       "\t<tr><td>Insomnia   </td><td> 38</td><td>10.16043</td></tr>\n",
       "\t<tr><td>None       </td><td>109</td><td>29.14439</td></tr>\n",
       "\t<tr><td>Sleep Apnea</td><td> 39</td><td>10.42781</td></tr>\n",
       "</tbody>\n",
       "</table>\n"
      ],
      "text/latex": [
       "A tibble: 3 × 3\n",
       "\\begin{tabular}{lll}\n",
       " Sleep\\_disorder & count & percentage\\\\\n",
       " <chr> & <int> & <dbl>\\\\\n",
       "\\hline\n",
       "\t Insomnia    &  38 & 10.16043\\\\\n",
       "\t None        & 109 & 29.14439\\\\\n",
       "\t Sleep Apnea &  39 & 10.42781\\\\\n",
       "\\end{tabular}\n"
      ],
      "text/markdown": [
       "\n",
       "A tibble: 3 × 3\n",
       "\n",
       "| Sleep_disorder &lt;chr&gt; | count &lt;int&gt; | percentage &lt;dbl&gt; |\n",
       "|---|---|---|\n",
       "| Insomnia    |  38 | 10.16043 |\n",
       "| None        | 109 | 29.14439 |\n",
       "| Sleep Apnea |  39 | 10.42781 |\n",
       "\n"
      ],
      "text/plain": [
       "  Sleep_disorder count percentage\n",
       "1 Insomnia        38   10.16043  \n",
       "2 None           109   29.14439  \n",
       "3 Sleep Apnea     39   10.42781  "
      ]
     },
     "metadata": {},
     "output_type": "display_data"
    }
   ],
   "source": [
    "#calculating the percentge of each sleep disorder in our training data to give us an overview of the data we are working with\n",
    "num_obs <- nrow(sleep_2)\n",
    "sleep_train |>\n",
    "  group_by(Sleep_disorder) |>\n",
    "  summarize(\n",
    "    count = n(),\n",
    "    percentage = n() / num_obs * 100\n",
    "  )"
   ]
  },
  {
   "cell_type": "code",
   "execution_count": 15,
   "id": "c95116dc-b91e-41bd-9fb9-e8898db344d8",
   "metadata": {},
   "outputs": [
    {
     "data": {
      "text/html": [
       "<table class=\"dataframe\">\n",
       "<caption>A tibble: 1 × 7</caption>\n",
       "<thead>\n",
       "\t<tr><th scope=col>Age</th><th scope=col>Sleep_Duration</th><th scope=col>Quality_of_sleep</th><th scope=col>Physical_Activity_Level</th><th scope=col>Stress_Level</th><th scope=col>Heart_Rate</th><th scope=col>Daily_steps</th></tr>\n",
       "\t<tr><th scope=col>&lt;dbl&gt;</th><th scope=col>&lt;dbl&gt;</th><th scope=col>&lt;dbl&gt;</th><th scope=col>&lt;dbl&gt;</th><th scope=col>&lt;dbl&gt;</th><th scope=col>&lt;dbl&gt;</th><th scope=col>&lt;dbl&gt;</th></tr>\n",
       "</thead>\n",
       "<tbody>\n",
       "\t<tr><td>42.37634</td><td>7.165054</td><td>7.360215</td><td>59.29032</td><td>5.258065</td><td>69.84409</td><td>6855.376</td></tr>\n",
       "</tbody>\n",
       "</table>\n"
      ],
      "text/latex": [
       "A tibble: 1 × 7\n",
       "\\begin{tabular}{lllllll}\n",
       " Age & Sleep\\_Duration & Quality\\_of\\_sleep & Physical\\_Activity\\_Level & Stress\\_Level & Heart\\_Rate & Daily\\_steps\\\\\n",
       " <dbl> & <dbl> & <dbl> & <dbl> & <dbl> & <dbl> & <dbl>\\\\\n",
       "\\hline\n",
       "\t 42.37634 & 7.165054 & 7.360215 & 59.29032 & 5.258065 & 69.84409 & 6855.376\\\\\n",
       "\\end{tabular}\n"
      ],
      "text/markdown": [
       "\n",
       "A tibble: 1 × 7\n",
       "\n",
       "| Age &lt;dbl&gt; | Sleep_Duration &lt;dbl&gt; | Quality_of_sleep &lt;dbl&gt; | Physical_Activity_Level &lt;dbl&gt; | Stress_Level &lt;dbl&gt; | Heart_Rate &lt;dbl&gt; | Daily_steps &lt;dbl&gt; |\n",
       "|---|---|---|---|---|---|---|\n",
       "| 42.37634 | 7.165054 | 7.360215 | 59.29032 | 5.258065 | 69.84409 | 6855.376 |\n",
       "\n"
      ],
      "text/plain": [
       "  Age      Sleep_Duration Quality_of_sleep Physical_Activity_Level Stress_Level\n",
       "1 42.37634 7.165054       7.360215         59.29032                5.258065    \n",
       "  Heart_Rate Daily_steps\n",
       "1 69.84409   6855.376   "
      ]
     },
     "metadata": {},
     "output_type": "display_data"
    }
   ],
   "source": [
    "# Summarizing means across quantitative variables for our training data\n",
    "sleep_summary <- sleep_train |>\n",
    "    summarize(across(Age:Daily_steps, mean))\n",
    "sleep_summary"
   ]
  },
  {
   "cell_type": "code",
   "execution_count": null,
   "id": "78044334-a747-447c-9efd-8cc25cb2efd6",
   "metadata": {},
   "outputs": [],
   "source": []
  },
  {
   "cell_type": "markdown",
   "id": "eaa3a0fa-7e5a-49b8-849b-c9a0ee0df263",
   "metadata": {},
   "source": [
    "METHODS: \n",
    "- Explain how we will conduct the data analysis (just explain K nearest neighbors)\n",
    "- Explain which variables/columns we will use (*INSERT RESEARCH HERE ON DIFF VARIABLES WE SELECTED AFFECT ON SLEEP)\n",
    "    also: reference the visualizations when defending the variable choices! "
   ]
  },
  {
   "cell_type": "markdown",
   "id": "3ce91f38-5e7d-4451-afdd-93ed1d47362c",
   "metadata": {},
   "source": [
    "EXPECTED OUTCOMES AND SIGNIFICANCE:\n",
    "- what do you expect to find:\n",
    "    (trends in sleep disorders and the way each disorder affects people's sleep differently)\n",
    "    \n",
    "In the analysis, we anticipate uncovering patterns and trends related to sleep disorders. The dataset includes diagnosis of sleep apnea, insomnia, and no sleep disorder. Our training data indicates that most of the sampled population has no sleep disorder, however, the difference between insomnia and sleep apnea can be further distinguished and diagnosed.\n",
    "\n",
    "- what impact could such findings have:\n",
    "    (efficiently diagnose patients with sleep disorders using measurable predictors that could potentially directly correlate to a sleep disorder)\n",
    "    \n",
    "By examining various qualities of sleep, we can better comprehend the wide spectrum of sleep disorders and their distinct effects on individuals. \n",
    "- what future questions could this lead to: \n",
    "    (what are the impacts of sleep disorders on daily life?\n",
    "    how can sleep disorders be treated?\n",
    "    are sleep disorders genetically predetermined?)"
   ]
  }
 ],
 "metadata": {
  "kernelspec": {
   "display_name": "R",
   "language": "R",
   "name": "ir"
  },
  "language_info": {
   "codemirror_mode": "r",
   "file_extension": ".r",
   "mimetype": "text/x-r-source",
   "name": "R",
   "pygments_lexer": "r",
   "version": "4.1.3"
  }
 },
 "nbformat": 4,
 "nbformat_minor": 5
}
