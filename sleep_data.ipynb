{
 "cells": [
  {
   "cell_type": "code",
   "execution_count": 3,
   "id": "cc7b9dba-93b1-47b3-9256-1e485451657c",
   "metadata": {},
   "outputs": [
    {
     "name": "stderr",
     "output_type": "stream",
     "text": [
      "Warning message in file(filename, \"r\", encoding = encoding):\n",
      "“cannot open file 'tests.R': No such file or directory”\n"
     ]
    },
    {
     "ename": "ERROR",
     "evalue": "Error in file(filename, \"r\", encoding = encoding): cannot open the connection\n",
     "output_type": "error",
     "traceback": [
      "Error in file(filename, \"r\", encoding = encoding): cannot open the connection\nTraceback:\n",
      "1. source(\"tests.R\")",
      "2. file(filename, \"r\", encoding = encoding)"
     ]
    }
   ],
   "source": [
    "### Run this cell before continuing.\n",
    "library(tidyverse)\n",
    "library(repr)\n",
    "library(tidymodels)\n",
    "options(repr.matrix.max.rows = 6)\n",
    "source('tests.R')\n",
    "source('cleanup.R')"
   ]
  },
  {
   "cell_type": "code",
   "execution_count": 7,
   "id": "f1e51d64-d9a2-4cc0-8ae3-9409a8b8c7c9",
   "metadata": {},
   "outputs": [
    {
     "name": "stderr",
     "output_type": "stream",
     "text": [
      "\u001b[1mRows: \u001b[22m\u001b[34m374\u001b[39m \u001b[1mColumns: \u001b[22m\u001b[34m13\u001b[39m\n",
      "\u001b[36m──\u001b[39m \u001b[1mColumn specification\u001b[22m \u001b[36m────────────────────────────────────────────────────────\u001b[39m\n",
      "\u001b[1mDelimiter:\u001b[22m \",\"\n",
      "\u001b[31mchr\u001b[39m (5): Gender, Occupation, BMI Category, Blood Pressure, Sleep Disorder\n",
      "\u001b[32mdbl\u001b[39m (8): Person ID, Age, Sleep Duration, Quality of Sleep, Physical Activity...\n",
      "\n",
      "\u001b[36mℹ\u001b[39m Use `spec()` to retrieve the full column specification for this data.\n",
      "\u001b[36mℹ\u001b[39m Specify the column types or set `show_col_types = FALSE` to quiet this message.\n"
     ]
    },
    {
     "data": {
      "text/html": [
       "<table class=\"dataframe\">\n",
       "<caption>A tibble: 6 × 13</caption>\n",
       "<thead>\n",
       "\t<tr><th scope=col>Person ID</th><th scope=col>Gender</th><th scope=col>Age</th><th scope=col>Occupation</th><th scope=col>Sleep Duration</th><th scope=col>Quality of Sleep</th><th scope=col>Physical Activity Level</th><th scope=col>Stress Level</th><th scope=col>BMI Category</th><th scope=col>Blood Pressure</th><th scope=col>Heart Rate</th><th scope=col>Daily Steps</th><th scope=col>Sleep Disorder</th></tr>\n",
       "\t<tr><th scope=col>&lt;dbl&gt;</th><th scope=col>&lt;chr&gt;</th><th scope=col>&lt;dbl&gt;</th><th scope=col>&lt;chr&gt;</th><th scope=col>&lt;dbl&gt;</th><th scope=col>&lt;dbl&gt;</th><th scope=col>&lt;dbl&gt;</th><th scope=col>&lt;dbl&gt;</th><th scope=col>&lt;chr&gt;</th><th scope=col>&lt;chr&gt;</th><th scope=col>&lt;dbl&gt;</th><th scope=col>&lt;dbl&gt;</th><th scope=col>&lt;chr&gt;</th></tr>\n",
       "</thead>\n",
       "<tbody>\n",
       "\t<tr><td>1</td><td>Male</td><td>27</td><td>Software Engineer   </td><td>6.1</td><td>6</td><td>42</td><td>6</td><td>Overweight</td><td>126/83</td><td>77</td><td> 4200</td><td>None       </td></tr>\n",
       "\t<tr><td>2</td><td>Male</td><td>28</td><td>Doctor              </td><td>6.2</td><td>6</td><td>60</td><td>8</td><td>Normal    </td><td>125/80</td><td>75</td><td>10000</td><td>None       </td></tr>\n",
       "\t<tr><td>3</td><td>Male</td><td>28</td><td>Doctor              </td><td>6.2</td><td>6</td><td>60</td><td>8</td><td>Normal    </td><td>125/80</td><td>75</td><td>10000</td><td>None       </td></tr>\n",
       "\t<tr><td>4</td><td>Male</td><td>28</td><td>Sales Representative</td><td>5.9</td><td>4</td><td>30</td><td>8</td><td>Obese     </td><td>140/90</td><td>85</td><td> 3000</td><td>Sleep Apnea</td></tr>\n",
       "\t<tr><td>5</td><td>Male</td><td>28</td><td>Sales Representative</td><td>5.9</td><td>4</td><td>30</td><td>8</td><td>Obese     </td><td>140/90</td><td>85</td><td> 3000</td><td>Sleep Apnea</td></tr>\n",
       "\t<tr><td>6</td><td>Male</td><td>28</td><td>Software Engineer   </td><td>5.9</td><td>4</td><td>30</td><td>8</td><td>Obese     </td><td>140/90</td><td>85</td><td> 3000</td><td>Insomnia   </td></tr>\n",
       "</tbody>\n",
       "</table>\n"
      ],
      "text/latex": [
       "A tibble: 6 × 13\n",
       "\\begin{tabular}{lllllllllllll}\n",
       " Person ID & Gender & Age & Occupation & Sleep Duration & Quality of Sleep & Physical Activity Level & Stress Level & BMI Category & Blood Pressure & Heart Rate & Daily Steps & Sleep Disorder\\\\\n",
       " <dbl> & <chr> & <dbl> & <chr> & <dbl> & <dbl> & <dbl> & <dbl> & <chr> & <chr> & <dbl> & <dbl> & <chr>\\\\\n",
       "\\hline\n",
       "\t 1 & Male & 27 & Software Engineer    & 6.1 & 6 & 42 & 6 & Overweight & 126/83 & 77 &  4200 & None       \\\\\n",
       "\t 2 & Male & 28 & Doctor               & 6.2 & 6 & 60 & 8 & Normal     & 125/80 & 75 & 10000 & None       \\\\\n",
       "\t 3 & Male & 28 & Doctor               & 6.2 & 6 & 60 & 8 & Normal     & 125/80 & 75 & 10000 & None       \\\\\n",
       "\t 4 & Male & 28 & Sales Representative & 5.9 & 4 & 30 & 8 & Obese      & 140/90 & 85 &  3000 & Sleep Apnea\\\\\n",
       "\t 5 & Male & 28 & Sales Representative & 5.9 & 4 & 30 & 8 & Obese      & 140/90 & 85 &  3000 & Sleep Apnea\\\\\n",
       "\t 6 & Male & 28 & Software Engineer    & 5.9 & 4 & 30 & 8 & Obese      & 140/90 & 85 &  3000 & Insomnia   \\\\\n",
       "\\end{tabular}\n"
      ],
      "text/markdown": [
       "\n",
       "A tibble: 6 × 13\n",
       "\n",
       "| Person ID &lt;dbl&gt; | Gender &lt;chr&gt; | Age &lt;dbl&gt; | Occupation &lt;chr&gt; | Sleep Duration &lt;dbl&gt; | Quality of Sleep &lt;dbl&gt; | Physical Activity Level &lt;dbl&gt; | Stress Level &lt;dbl&gt; | BMI Category &lt;chr&gt; | Blood Pressure &lt;chr&gt; | Heart Rate &lt;dbl&gt; | Daily Steps &lt;dbl&gt; | Sleep Disorder &lt;chr&gt; |\n",
       "|---|---|---|---|---|---|---|---|---|---|---|---|---|\n",
       "| 1 | Male | 27 | Software Engineer    | 6.1 | 6 | 42 | 6 | Overweight | 126/83 | 77 |  4200 | None        |\n",
       "| 2 | Male | 28 | Doctor               | 6.2 | 6 | 60 | 8 | Normal     | 125/80 | 75 | 10000 | None        |\n",
       "| 3 | Male | 28 | Doctor               | 6.2 | 6 | 60 | 8 | Normal     | 125/80 | 75 | 10000 | None        |\n",
       "| 4 | Male | 28 | Sales Representative | 5.9 | 4 | 30 | 8 | Obese      | 140/90 | 85 |  3000 | Sleep Apnea |\n",
       "| 5 | Male | 28 | Sales Representative | 5.9 | 4 | 30 | 8 | Obese      | 140/90 | 85 |  3000 | Sleep Apnea |\n",
       "| 6 | Male | 28 | Software Engineer    | 5.9 | 4 | 30 | 8 | Obese      | 140/90 | 85 |  3000 | Insomnia    |\n",
       "\n"
      ],
      "text/plain": [
       "  Person ID Gender Age Occupation           Sleep Duration Quality of Sleep\n",
       "1 1         Male   27  Software Engineer    6.1            6               \n",
       "2 2         Male   28  Doctor               6.2            6               \n",
       "3 3         Male   28  Doctor               6.2            6               \n",
       "4 4         Male   28  Sales Representative 5.9            4               \n",
       "5 5         Male   28  Sales Representative 5.9            4               \n",
       "6 6         Male   28  Software Engineer    5.9            4               \n",
       "  Physical Activity Level Stress Level BMI Category Blood Pressure Heart Rate\n",
       "1 42                      6            Overweight   126/83         77        \n",
       "2 60                      8            Normal       125/80         75        \n",
       "3 60                      8            Normal       125/80         75        \n",
       "4 30                      8            Obese        140/90         85        \n",
       "5 30                      8            Obese        140/90         85        \n",
       "6 30                      8            Obese        140/90         85        \n",
       "  Daily Steps Sleep Disorder\n",
       "1  4200       None          \n",
       "2 10000       None          \n",
       "3 10000       None          \n",
       "4  3000       Sleep Apnea   \n",
       "5  3000       Sleep Apnea   \n",
       "6  3000       Insomnia      "
      ]
     },
     "metadata": {},
     "output_type": "display_data"
    }
   ],
   "source": [
    "# Reading dataset into R\n",
    "sleep <- read_csv(\"https://raw.githubusercontent.com/mikkielynn/DSCI_100_project/main/Sleep_health_and_lifestyle_dataset.csv\")\n",
    "head(sleep)"
   ]
  },
  {
   "cell_type": "code",
   "execution_count": 8,
   "id": "677c5a28-33a9-4cfc-bee9-55ee92c6a2d7",
   "metadata": {},
   "outputs": [
    {
     "data": {
      "text/html": [
       "<table class=\"dataframe\">\n",
       "<caption>A spec_tbl_df: 374 × 13</caption>\n",
       "<thead>\n",
       "\t<tr><th scope=col>Person_ID</th><th scope=col>Gender</th><th scope=col>Age</th><th scope=col>Occupation</th><th scope=col>Sleep_Duration</th><th scope=col>Quality_of_sleep</th><th scope=col>Physical_Activity_Level</th><th scope=col>Stress_Level</th><th scope=col>BMI</th><th scope=col>Blood_Pressure</th><th scope=col>Heart_Rate</th><th scope=col>Daily_steps</th><th scope=col>Sleep_disorder</th></tr>\n",
       "\t<tr><th scope=col>&lt;dbl&gt;</th><th scope=col>&lt;chr&gt;</th><th scope=col>&lt;dbl&gt;</th><th scope=col>&lt;chr&gt;</th><th scope=col>&lt;dbl&gt;</th><th scope=col>&lt;dbl&gt;</th><th scope=col>&lt;dbl&gt;</th><th scope=col>&lt;dbl&gt;</th><th scope=col>&lt;chr&gt;</th><th scope=col>&lt;chr&gt;</th><th scope=col>&lt;dbl&gt;</th><th scope=col>&lt;dbl&gt;</th><th scope=col>&lt;chr&gt;</th></tr>\n",
       "</thead>\n",
       "<tbody>\n",
       "\t<tr><td>1</td><td>Male</td><td>27</td><td>Software Engineer</td><td>6.1</td><td>6</td><td>42</td><td>6</td><td>Overweight</td><td>126/83</td><td>77</td><td> 4200</td><td>None</td></tr>\n",
       "\t<tr><td>2</td><td>Male</td><td>28</td><td>Doctor           </td><td>6.2</td><td>6</td><td>60</td><td>8</td><td>Normal    </td><td>125/80</td><td>75</td><td>10000</td><td>None</td></tr>\n",
       "\t<tr><td>3</td><td>Male</td><td>28</td><td>Doctor           </td><td>6.2</td><td>6</td><td>60</td><td>8</td><td>Normal    </td><td>125/80</td><td>75</td><td>10000</td><td>None</td></tr>\n",
       "\t<tr><td>⋮</td><td>⋮</td><td>⋮</td><td>⋮</td><td>⋮</td><td>⋮</td><td>⋮</td><td>⋮</td><td>⋮</td><td>⋮</td><td>⋮</td><td>⋮</td><td>⋮</td></tr>\n",
       "\t<tr><td>372</td><td>Female</td><td>59</td><td>Nurse</td><td>8.1</td><td>9</td><td>75</td><td>3</td><td>Overweight</td><td>140/95</td><td>68</td><td>7000</td><td>Sleep Apnea</td></tr>\n",
       "\t<tr><td>373</td><td>Female</td><td>59</td><td>Nurse</td><td>8.1</td><td>9</td><td>75</td><td>3</td><td>Overweight</td><td>140/95</td><td>68</td><td>7000</td><td>Sleep Apnea</td></tr>\n",
       "\t<tr><td>374</td><td>Female</td><td>59</td><td>Nurse</td><td>8.1</td><td>9</td><td>75</td><td>3</td><td>Overweight</td><td>140/95</td><td>68</td><td>7000</td><td>Sleep Apnea</td></tr>\n",
       "</tbody>\n",
       "</table>\n"
      ],
      "text/latex": [
       "A spec\\_tbl\\_df: 374 × 13\n",
       "\\begin{tabular}{lllllllllllll}\n",
       " Person\\_ID & Gender & Age & Occupation & Sleep\\_Duration & Quality\\_of\\_sleep & Physical\\_Activity\\_Level & Stress\\_Level & BMI & Blood\\_Pressure & Heart\\_Rate & Daily\\_steps & Sleep\\_disorder\\\\\n",
       " <dbl> & <chr> & <dbl> & <chr> & <dbl> & <dbl> & <dbl> & <dbl> & <chr> & <chr> & <dbl> & <dbl> & <chr>\\\\\n",
       "\\hline\n",
       "\t 1 & Male & 27 & Software Engineer & 6.1 & 6 & 42 & 6 & Overweight & 126/83 & 77 &  4200 & None\\\\\n",
       "\t 2 & Male & 28 & Doctor            & 6.2 & 6 & 60 & 8 & Normal     & 125/80 & 75 & 10000 & None\\\\\n",
       "\t 3 & Male & 28 & Doctor            & 6.2 & 6 & 60 & 8 & Normal     & 125/80 & 75 & 10000 & None\\\\\n",
       "\t ⋮ & ⋮ & ⋮ & ⋮ & ⋮ & ⋮ & ⋮ & ⋮ & ⋮ & ⋮ & ⋮ & ⋮ & ⋮\\\\\n",
       "\t 372 & Female & 59 & Nurse & 8.1 & 9 & 75 & 3 & Overweight & 140/95 & 68 & 7000 & Sleep Apnea\\\\\n",
       "\t 373 & Female & 59 & Nurse & 8.1 & 9 & 75 & 3 & Overweight & 140/95 & 68 & 7000 & Sleep Apnea\\\\\n",
       "\t 374 & Female & 59 & Nurse & 8.1 & 9 & 75 & 3 & Overweight & 140/95 & 68 & 7000 & Sleep Apnea\\\\\n",
       "\\end{tabular}\n"
      ],
      "text/markdown": [
       "\n",
       "A spec_tbl_df: 374 × 13\n",
       "\n",
       "| Person_ID &lt;dbl&gt; | Gender &lt;chr&gt; | Age &lt;dbl&gt; | Occupation &lt;chr&gt; | Sleep_Duration &lt;dbl&gt; | Quality_of_sleep &lt;dbl&gt; | Physical_Activity_Level &lt;dbl&gt; | Stress_Level &lt;dbl&gt; | BMI &lt;chr&gt; | Blood_Pressure &lt;chr&gt; | Heart_Rate &lt;dbl&gt; | Daily_steps &lt;dbl&gt; | Sleep_disorder &lt;chr&gt; |\n",
       "|---|---|---|---|---|---|---|---|---|---|---|---|---|\n",
       "| 1 | Male | 27 | Software Engineer | 6.1 | 6 | 42 | 6 | Overweight | 126/83 | 77 |  4200 | None |\n",
       "| 2 | Male | 28 | Doctor            | 6.2 | 6 | 60 | 8 | Normal     | 125/80 | 75 | 10000 | None |\n",
       "| 3 | Male | 28 | Doctor            | 6.2 | 6 | 60 | 8 | Normal     | 125/80 | 75 | 10000 | None |\n",
       "| ⋮ | ⋮ | ⋮ | ⋮ | ⋮ | ⋮ | ⋮ | ⋮ | ⋮ | ⋮ | ⋮ | ⋮ | ⋮ |\n",
       "| 372 | Female | 59 | Nurse | 8.1 | 9 | 75 | 3 | Overweight | 140/95 | 68 | 7000 | Sleep Apnea |\n",
       "| 373 | Female | 59 | Nurse | 8.1 | 9 | 75 | 3 | Overweight | 140/95 | 68 | 7000 | Sleep Apnea |\n",
       "| 374 | Female | 59 | Nurse | 8.1 | 9 | 75 | 3 | Overweight | 140/95 | 68 | 7000 | Sleep Apnea |\n",
       "\n"
      ],
      "text/plain": [
       "    Person_ID Gender Age Occupation        Sleep_Duration Quality_of_sleep\n",
       "1   1         Male   27  Software Engineer 6.1            6               \n",
       "2   2         Male   28  Doctor            6.2            6               \n",
       "3   3         Male   28  Doctor            6.2            6               \n",
       "⋮   ⋮         ⋮      ⋮   ⋮                 ⋮              ⋮               \n",
       "372 372       Female 59  Nurse             8.1            9               \n",
       "373 373       Female 59  Nurse             8.1            9               \n",
       "374 374       Female 59  Nurse             8.1            9               \n",
       "    Physical_Activity_Level Stress_Level BMI        Blood_Pressure Heart_Rate\n",
       "1   42                      6            Overweight 126/83         77        \n",
       "2   60                      8            Normal     125/80         75        \n",
       "3   60                      8            Normal     125/80         75        \n",
       "⋮   ⋮                       ⋮            ⋮          ⋮              ⋮         \n",
       "372 75                      3            Overweight 140/95         68        \n",
       "373 75                      3            Overweight 140/95         68        \n",
       "374 75                      3            Overweight 140/95         68        \n",
       "    Daily_steps Sleep_disorder\n",
       "1    4200       None          \n",
       "2   10000       None          \n",
       "3   10000       None          \n",
       "⋮   ⋮           ⋮             \n",
       "372 7000        Sleep Apnea   \n",
       "373 7000        Sleep Apnea   \n",
       "374 7000        Sleep Apnea   "
      ]
     },
     "metadata": {},
     "output_type": "display_data"
    }
   ],
   "source": [
    "# Renaming variable names\n",
    "colnames(sleep) <- c(\"Person_ID\", \"Gender\", \"Age\", \"Occupation\", \"Sleep_Duration\", \"Quality_of_sleep\", \"Physical_Activity_Level\", \"Stress_Level\", \"BMI\", \"Blood_Pressure\", \"Heart_Rate\", \"Daily_steps\", \"Sleep_disorder\")\n",
    "sleep"
   ]
  },
  {
   "cell_type": "code",
   "execution_count": 9,
   "id": "9ec4f2f0-9e24-400f-b989-962a599c9bad",
   "metadata": {},
   "outputs": [
    {
     "data": {
      "text/html": [
       "<table class=\"dataframe\">\n",
       "<caption>A tibble: 374 × 8</caption>\n",
       "<thead>\n",
       "\t<tr><th scope=col>Age</th><th scope=col>Sleep_Duration</th><th scope=col>Quality_of_sleep</th><th scope=col>Physical_Activity_Level</th><th scope=col>Stress_Level</th><th scope=col>Heart_Rate</th><th scope=col>Daily_steps</th><th scope=col>Sleep_disorder</th></tr>\n",
       "\t<tr><th scope=col>&lt;dbl&gt;</th><th scope=col>&lt;dbl&gt;</th><th scope=col>&lt;dbl&gt;</th><th scope=col>&lt;dbl&gt;</th><th scope=col>&lt;dbl&gt;</th><th scope=col>&lt;dbl&gt;</th><th scope=col>&lt;dbl&gt;</th><th scope=col>&lt;chr&gt;</th></tr>\n",
       "</thead>\n",
       "<tbody>\n",
       "\t<tr><td>27</td><td>6.1</td><td>6</td><td>42</td><td>6</td><td>77</td><td> 4200</td><td>None</td></tr>\n",
       "\t<tr><td>28</td><td>6.2</td><td>6</td><td>60</td><td>8</td><td>75</td><td>10000</td><td>None</td></tr>\n",
       "\t<tr><td>28</td><td>6.2</td><td>6</td><td>60</td><td>8</td><td>75</td><td>10000</td><td>None</td></tr>\n",
       "\t<tr><td>⋮</td><td>⋮</td><td>⋮</td><td>⋮</td><td>⋮</td><td>⋮</td><td>⋮</td><td>⋮</td></tr>\n",
       "\t<tr><td>59</td><td>8.1</td><td>9</td><td>75</td><td>3</td><td>68</td><td>7000</td><td>Sleep Apnea</td></tr>\n",
       "\t<tr><td>59</td><td>8.1</td><td>9</td><td>75</td><td>3</td><td>68</td><td>7000</td><td>Sleep Apnea</td></tr>\n",
       "\t<tr><td>59</td><td>8.1</td><td>9</td><td>75</td><td>3</td><td>68</td><td>7000</td><td>Sleep Apnea</td></tr>\n",
       "</tbody>\n",
       "</table>\n"
      ],
      "text/latex": [
       "A tibble: 374 × 8\n",
       "\\begin{tabular}{llllllll}\n",
       " Age & Sleep\\_Duration & Quality\\_of\\_sleep & Physical\\_Activity\\_Level & Stress\\_Level & Heart\\_Rate & Daily\\_steps & Sleep\\_disorder\\\\\n",
       " <dbl> & <dbl> & <dbl> & <dbl> & <dbl> & <dbl> & <dbl> & <chr>\\\\\n",
       "\\hline\n",
       "\t 27 & 6.1 & 6 & 42 & 6 & 77 &  4200 & None\\\\\n",
       "\t 28 & 6.2 & 6 & 60 & 8 & 75 & 10000 & None\\\\\n",
       "\t 28 & 6.2 & 6 & 60 & 8 & 75 & 10000 & None\\\\\n",
       "\t ⋮ & ⋮ & ⋮ & ⋮ & ⋮ & ⋮ & ⋮ & ⋮\\\\\n",
       "\t 59 & 8.1 & 9 & 75 & 3 & 68 & 7000 & Sleep Apnea\\\\\n",
       "\t 59 & 8.1 & 9 & 75 & 3 & 68 & 7000 & Sleep Apnea\\\\\n",
       "\t 59 & 8.1 & 9 & 75 & 3 & 68 & 7000 & Sleep Apnea\\\\\n",
       "\\end{tabular}\n"
      ],
      "text/markdown": [
       "\n",
       "A tibble: 374 × 8\n",
       "\n",
       "| Age &lt;dbl&gt; | Sleep_Duration &lt;dbl&gt; | Quality_of_sleep &lt;dbl&gt; | Physical_Activity_Level &lt;dbl&gt; | Stress_Level &lt;dbl&gt; | Heart_Rate &lt;dbl&gt; | Daily_steps &lt;dbl&gt; | Sleep_disorder &lt;chr&gt; |\n",
       "|---|---|---|---|---|---|---|---|\n",
       "| 27 | 6.1 | 6 | 42 | 6 | 77 |  4200 | None |\n",
       "| 28 | 6.2 | 6 | 60 | 8 | 75 | 10000 | None |\n",
       "| 28 | 6.2 | 6 | 60 | 8 | 75 | 10000 | None |\n",
       "| ⋮ | ⋮ | ⋮ | ⋮ | ⋮ | ⋮ | ⋮ | ⋮ |\n",
       "| 59 | 8.1 | 9 | 75 | 3 | 68 | 7000 | Sleep Apnea |\n",
       "| 59 | 8.1 | 9 | 75 | 3 | 68 | 7000 | Sleep Apnea |\n",
       "| 59 | 8.1 | 9 | 75 | 3 | 68 | 7000 | Sleep Apnea |\n",
       "\n"
      ],
      "text/plain": [
       "    Age Sleep_Duration Quality_of_sleep Physical_Activity_Level Stress_Level\n",
       "1   27  6.1            6                42                      6           \n",
       "2   28  6.2            6                60                      8           \n",
       "3   28  6.2            6                60                      8           \n",
       "⋮   ⋮   ⋮              ⋮                ⋮                       ⋮           \n",
       "372 59  8.1            9                75                      3           \n",
       "373 59  8.1            9                75                      3           \n",
       "374 59  8.1            9                75                      3           \n",
       "    Heart_Rate Daily_steps Sleep_disorder\n",
       "1   77          4200       None          \n",
       "2   75         10000       None          \n",
       "3   75         10000       None          \n",
       "⋮   ⋮          ⋮           ⋮             \n",
       "372 68         7000        Sleep Apnea   \n",
       "373 68         7000        Sleep Apnea   \n",
       "374 68         7000        Sleep Apnea   "
      ]
     },
     "metadata": {},
     "output_type": "display_data"
    }
   ],
   "source": [
    "# Tidied data; selected columns used for analysis\n",
    "sleep_2 <- sleep |>\n",
    "    select(-Person_ID, -Gender, -Occupation, -BMI, -Blood_Pressure)\n",
    "sleep_2"
   ]
  },
  {
   "cell_type": "code",
   "execution_count": 10,
   "id": "4901699a-2bd1-4af9-abd6-07ca7ab413b6",
   "metadata": {},
   "outputs": [
    {
     "data": {
      "text/html": [
       "<table class=\"dataframe\">\n",
       "<caption>A tibble: 186 × 8</caption>\n",
       "<thead>\n",
       "\t<tr><th scope=col>Age</th><th scope=col>Sleep_Duration</th><th scope=col>Quality_of_sleep</th><th scope=col>Physical_Activity_Level</th><th scope=col>Stress_Level</th><th scope=col>Heart_Rate</th><th scope=col>Daily_steps</th><th scope=col>Sleep_disorder</th></tr>\n",
       "\t<tr><th scope=col>&lt;dbl&gt;</th><th scope=col>&lt;dbl&gt;</th><th scope=col>&lt;dbl&gt;</th><th scope=col>&lt;dbl&gt;</th><th scope=col>&lt;dbl&gt;</th><th scope=col>&lt;dbl&gt;</th><th scope=col>&lt;dbl&gt;</th><th scope=col>&lt;chr&gt;</th></tr>\n",
       "</thead>\n",
       "<tbody>\n",
       "\t<tr><td>29</td><td>6.3</td><td>6</td><td>40</td><td>7</td><td>82</td><td>3500</td><td>Insomnia</td></tr>\n",
       "\t<tr><td>30</td><td>6.4</td><td>5</td><td>35</td><td>7</td><td>78</td><td>4100</td><td>Insomnia</td></tr>\n",
       "\t<tr><td>33</td><td>6.0</td><td>6</td><td>30</td><td>8</td><td>72</td><td>5000</td><td>Insomnia</td></tr>\n",
       "\t<tr><td>⋮</td><td>⋮</td><td>⋮</td><td>⋮</td><td>⋮</td><td>⋮</td><td>⋮</td><td>⋮</td></tr>\n",
       "\t<tr><td>59</td><td>8.0</td><td>9</td><td>75</td><td>3</td><td>68</td><td>7000</td><td>Sleep Apnea</td></tr>\n",
       "\t<tr><td>59</td><td>8.1</td><td>9</td><td>75</td><td>3</td><td>68</td><td>7000</td><td>Sleep Apnea</td></tr>\n",
       "\t<tr><td>59</td><td>8.1</td><td>9</td><td>75</td><td>3</td><td>68</td><td>7000</td><td>Sleep Apnea</td></tr>\n",
       "</tbody>\n",
       "</table>\n"
      ],
      "text/latex": [
       "A tibble: 186 × 8\n",
       "\\begin{tabular}{llllllll}\n",
       " Age & Sleep\\_Duration & Quality\\_of\\_sleep & Physical\\_Activity\\_Level & Stress\\_Level & Heart\\_Rate & Daily\\_steps & Sleep\\_disorder\\\\\n",
       " <dbl> & <dbl> & <dbl> & <dbl> & <dbl> & <dbl> & <dbl> & <chr>\\\\\n",
       "\\hline\n",
       "\t 29 & 6.3 & 6 & 40 & 7 & 82 & 3500 & Insomnia\\\\\n",
       "\t 30 & 6.4 & 5 & 35 & 7 & 78 & 4100 & Insomnia\\\\\n",
       "\t 33 & 6.0 & 6 & 30 & 8 & 72 & 5000 & Insomnia\\\\\n",
       "\t ⋮ & ⋮ & ⋮ & ⋮ & ⋮ & ⋮ & ⋮ & ⋮\\\\\n",
       "\t 59 & 8.0 & 9 & 75 & 3 & 68 & 7000 & Sleep Apnea\\\\\n",
       "\t 59 & 8.1 & 9 & 75 & 3 & 68 & 7000 & Sleep Apnea\\\\\n",
       "\t 59 & 8.1 & 9 & 75 & 3 & 68 & 7000 & Sleep Apnea\\\\\n",
       "\\end{tabular}\n"
      ],
      "text/markdown": [
       "\n",
       "A tibble: 186 × 8\n",
       "\n",
       "| Age &lt;dbl&gt; | Sleep_Duration &lt;dbl&gt; | Quality_of_sleep &lt;dbl&gt; | Physical_Activity_Level &lt;dbl&gt; | Stress_Level &lt;dbl&gt; | Heart_Rate &lt;dbl&gt; | Daily_steps &lt;dbl&gt; | Sleep_disorder &lt;chr&gt; |\n",
       "|---|---|---|---|---|---|---|---|\n",
       "| 29 | 6.3 | 6 | 40 | 7 | 82 | 3500 | Insomnia |\n",
       "| 30 | 6.4 | 5 | 35 | 7 | 78 | 4100 | Insomnia |\n",
       "| 33 | 6.0 | 6 | 30 | 8 | 72 | 5000 | Insomnia |\n",
       "| ⋮ | ⋮ | ⋮ | ⋮ | ⋮ | ⋮ | ⋮ | ⋮ |\n",
       "| 59 | 8.0 | 9 | 75 | 3 | 68 | 7000 | Sleep Apnea |\n",
       "| 59 | 8.1 | 9 | 75 | 3 | 68 | 7000 | Sleep Apnea |\n",
       "| 59 | 8.1 | 9 | 75 | 3 | 68 | 7000 | Sleep Apnea |\n",
       "\n"
      ],
      "text/plain": [
       "    Age Sleep_Duration Quality_of_sleep Physical_Activity_Level Stress_Level\n",
       "1   29  6.3            6                40                      7           \n",
       "2   30  6.4            5                35                      7           \n",
       "3   33  6.0            6                30                      8           \n",
       "⋮   ⋮   ⋮              ⋮                ⋮                       ⋮           \n",
       "184 59  8.0            9                75                      3           \n",
       "185 59  8.1            9                75                      3           \n",
       "186 59  8.1            9                75                      3           \n",
       "    Heart_Rate Daily_steps Sleep_disorder\n",
       "1   82         3500        Insomnia      \n",
       "2   78         4100        Insomnia      \n",
       "3   72         5000        Insomnia      \n",
       "⋮   ⋮          ⋮           ⋮             \n",
       "184 68         7000        Sleep Apnea   \n",
       "185 68         7000        Sleep Apnea   \n",
       "186 68         7000        Sleep Apnea   "
      ]
     },
     "metadata": {},
     "output_type": "display_data"
    },
    {
     "data": {
      "text/html": [
       "<table class=\"dataframe\">\n",
       "<caption>A tibble: 188 × 8</caption>\n",
       "<thead>\n",
       "\t<tr><th scope=col>Age</th><th scope=col>Sleep_Duration</th><th scope=col>Quality_of_sleep</th><th scope=col>Physical_Activity_Level</th><th scope=col>Stress_Level</th><th scope=col>Heart_Rate</th><th scope=col>Daily_steps</th><th scope=col>Sleep_disorder</th></tr>\n",
       "\t<tr><th scope=col>&lt;dbl&gt;</th><th scope=col>&lt;dbl&gt;</th><th scope=col>&lt;dbl&gt;</th><th scope=col>&lt;dbl&gt;</th><th scope=col>&lt;dbl&gt;</th><th scope=col>&lt;dbl&gt;</th><th scope=col>&lt;dbl&gt;</th><th scope=col>&lt;chr&gt;</th></tr>\n",
       "</thead>\n",
       "<tbody>\n",
       "\t<tr><td>28</td><td>6.2</td><td>6</td><td>60</td><td>8</td><td>75</td><td>10000</td><td>None       </td></tr>\n",
       "\t<tr><td>28</td><td>5.9</td><td>4</td><td>30</td><td>8</td><td>85</td><td> 3000</td><td>Sleep Apnea</td></tr>\n",
       "\t<tr><td>28</td><td>5.9</td><td>4</td><td>30</td><td>8</td><td>85</td><td> 3000</td><td>Sleep Apnea</td></tr>\n",
       "\t<tr><td>⋮</td><td>⋮</td><td>⋮</td><td>⋮</td><td>⋮</td><td>⋮</td><td>⋮</td><td>⋮</td></tr>\n",
       "\t<tr><td>59</td><td>8.1</td><td>9</td><td>75</td><td>3</td><td>68</td><td>7000</td><td>Sleep Apnea</td></tr>\n",
       "\t<tr><td>59</td><td>8.0</td><td>9</td><td>75</td><td>3</td><td>68</td><td>7000</td><td>Sleep Apnea</td></tr>\n",
       "\t<tr><td>59</td><td>8.1</td><td>9</td><td>75</td><td>3</td><td>68</td><td>7000</td><td>Sleep Apnea</td></tr>\n",
       "</tbody>\n",
       "</table>\n"
      ],
      "text/latex": [
       "A tibble: 188 × 8\n",
       "\\begin{tabular}{llllllll}\n",
       " Age & Sleep\\_Duration & Quality\\_of\\_sleep & Physical\\_Activity\\_Level & Stress\\_Level & Heart\\_Rate & Daily\\_steps & Sleep\\_disorder\\\\\n",
       " <dbl> & <dbl> & <dbl> & <dbl> & <dbl> & <dbl> & <dbl> & <chr>\\\\\n",
       "\\hline\n",
       "\t 28 & 6.2 & 6 & 60 & 8 & 75 & 10000 & None       \\\\\n",
       "\t 28 & 5.9 & 4 & 30 & 8 & 85 &  3000 & Sleep Apnea\\\\\n",
       "\t 28 & 5.9 & 4 & 30 & 8 & 85 &  3000 & Sleep Apnea\\\\\n",
       "\t ⋮ & ⋮ & ⋮ & ⋮ & ⋮ & ⋮ & ⋮ & ⋮\\\\\n",
       "\t 59 & 8.1 & 9 & 75 & 3 & 68 & 7000 & Sleep Apnea\\\\\n",
       "\t 59 & 8.0 & 9 & 75 & 3 & 68 & 7000 & Sleep Apnea\\\\\n",
       "\t 59 & 8.1 & 9 & 75 & 3 & 68 & 7000 & Sleep Apnea\\\\\n",
       "\\end{tabular}\n"
      ],
      "text/markdown": [
       "\n",
       "A tibble: 188 × 8\n",
       "\n",
       "| Age &lt;dbl&gt; | Sleep_Duration &lt;dbl&gt; | Quality_of_sleep &lt;dbl&gt; | Physical_Activity_Level &lt;dbl&gt; | Stress_Level &lt;dbl&gt; | Heart_Rate &lt;dbl&gt; | Daily_steps &lt;dbl&gt; | Sleep_disorder &lt;chr&gt; |\n",
       "|---|---|---|---|---|---|---|---|\n",
       "| 28 | 6.2 | 6 | 60 | 8 | 75 | 10000 | None        |\n",
       "| 28 | 5.9 | 4 | 30 | 8 | 85 |  3000 | Sleep Apnea |\n",
       "| 28 | 5.9 | 4 | 30 | 8 | 85 |  3000 | Sleep Apnea |\n",
       "| ⋮ | ⋮ | ⋮ | ⋮ | ⋮ | ⋮ | ⋮ | ⋮ |\n",
       "| 59 | 8.1 | 9 | 75 | 3 | 68 | 7000 | Sleep Apnea |\n",
       "| 59 | 8.0 | 9 | 75 | 3 | 68 | 7000 | Sleep Apnea |\n",
       "| 59 | 8.1 | 9 | 75 | 3 | 68 | 7000 | Sleep Apnea |\n",
       "\n"
      ],
      "text/plain": [
       "    Age Sleep_Duration Quality_of_sleep Physical_Activity_Level Stress_Level\n",
       "1   28  6.2            6                60                      8           \n",
       "2   28  5.9            4                30                      8           \n",
       "3   28  5.9            4                30                      8           \n",
       "⋮   ⋮   ⋮              ⋮                ⋮                       ⋮           \n",
       "186 59  8.1            9                75                      3           \n",
       "187 59  8.0            9                75                      3           \n",
       "188 59  8.1            9                75                      3           \n",
       "    Heart_Rate Daily_steps Sleep_disorder\n",
       "1   75         10000       None          \n",
       "2   85          3000       Sleep Apnea   \n",
       "3   85          3000       Sleep Apnea   \n",
       "⋮   ⋮          ⋮           ⋮             \n",
       "186 68         7000        Sleep Apnea   \n",
       "187 68         7000        Sleep Apnea   \n",
       "188 68         7000        Sleep Apnea   "
      ]
     },
     "metadata": {},
     "output_type": "display_data"
    },
    {
     "data": {
      "text/html": [
       "<table class=\"dataframe\">\n",
       "<caption>A tibble: 3 × 2</caption>\n",
       "<thead>\n",
       "\t<tr><th scope=col>Sleep_disorder</th><th scope=col>n</th></tr>\n",
       "\t<tr><th scope=col>&lt;chr&gt;</th><th scope=col>&lt;int&gt;</th></tr>\n",
       "</thead>\n",
       "<tbody>\n",
       "\t<tr><td>Insomnia   </td><td> 38</td></tr>\n",
       "\t<tr><td>None       </td><td>109</td></tr>\n",
       "\t<tr><td>Sleep Apnea</td><td> 39</td></tr>\n",
       "</tbody>\n",
       "</table>\n"
      ],
      "text/latex": [
       "A tibble: 3 × 2\n",
       "\\begin{tabular}{ll}\n",
       " Sleep\\_disorder & n\\\\\n",
       " <chr> & <int>\\\\\n",
       "\\hline\n",
       "\t Insomnia    &  38\\\\\n",
       "\t None        & 109\\\\\n",
       "\t Sleep Apnea &  39\\\\\n",
       "\\end{tabular}\n"
      ],
      "text/markdown": [
       "\n",
       "A tibble: 3 × 2\n",
       "\n",
       "| Sleep_disorder &lt;chr&gt; | n &lt;int&gt; |\n",
       "|---|---|\n",
       "| Insomnia    |  38 |\n",
       "| None        | 109 |\n",
       "| Sleep Apnea |  39 |\n",
       "\n"
      ],
      "text/plain": [
       "  Sleep_disorder n  \n",
       "1 Insomnia        38\n",
       "2 None           109\n",
       "3 Sleep Apnea     39"
      ]
     },
     "metadata": {},
     "output_type": "display_data"
    },
    {
     "data": {
      "text/html": [
       "<table class=\"dataframe\">\n",
       "<caption>A tibble: 3 × 2</caption>\n",
       "<thead>\n",
       "\t<tr><th scope=col>Sleep_disorder</th><th scope=col>n</th></tr>\n",
       "\t<tr><th scope=col>&lt;chr&gt;</th><th scope=col>&lt;int&gt;</th></tr>\n",
       "</thead>\n",
       "<tbody>\n",
       "\t<tr><td>Insomnia   </td><td> 39</td></tr>\n",
       "\t<tr><td>None       </td><td>110</td></tr>\n",
       "\t<tr><td>Sleep Apnea</td><td> 39</td></tr>\n",
       "</tbody>\n",
       "</table>\n"
      ],
      "text/latex": [
       "A tibble: 3 × 2\n",
       "\\begin{tabular}{ll}\n",
       " Sleep\\_disorder & n\\\\\n",
       " <chr> & <int>\\\\\n",
       "\\hline\n",
       "\t Insomnia    &  39\\\\\n",
       "\t None        & 110\\\\\n",
       "\t Sleep Apnea &  39\\\\\n",
       "\\end{tabular}\n"
      ],
      "text/markdown": [
       "\n",
       "A tibble: 3 × 2\n",
       "\n",
       "| Sleep_disorder &lt;chr&gt; | n &lt;int&gt; |\n",
       "|---|---|\n",
       "| Insomnia    |  39 |\n",
       "| None        | 110 |\n",
       "| Sleep Apnea |  39 |\n",
       "\n"
      ],
      "text/plain": [
       "  Sleep_disorder n  \n",
       "1 Insomnia        39\n",
       "2 None           110\n",
       "3 Sleep Apnea     39"
      ]
     },
     "metadata": {},
     "output_type": "display_data"
    }
   ],
   "source": [
    "#splitting code\n",
    "sleep_split <- initial_split(sleep_2, prop = 0.5, strata = Sleep_disorder)\n",
    "sleep_train <- training(sleep_split)\n",
    "sleep_test <- testing(sleep_split)\n",
    "sleep_train     \n",
    "sleep_test\n",
    "\n",
    "#ensuring we have equal proportions of the different lables for the sleep disorder\n",
    "sleep_train |>\n",
    "    count(Sleep_disorder)\n",
    "\n",
    "sleep_test |>\n",
    "    count(Sleep_disorder)"
   ]
  },
  {
   "cell_type": "code",
   "execution_count": 10,
   "id": "c95116dc-b91e-41bd-9fb9-e8898db344d8",
   "metadata": {},
   "outputs": [
    {
     "data": {
      "text/html": [
       "<table class=\"dataframe\">\n",
       "<caption>A tibble: 1 × 7</caption>\n",
       "<thead>\n",
       "\t<tr><th scope=col>Age</th><th scope=col>Sleep_Duration</th><th scope=col>Quality_of_sleep</th><th scope=col>Physical_Activity_Level</th><th scope=col>Stress_Level</th><th scope=col>Heart_Rate</th><th scope=col>Daily_steps</th></tr>\n",
       "\t<tr><th scope=col>&lt;dbl&gt;</th><th scope=col>&lt;dbl&gt;</th><th scope=col>&lt;dbl&gt;</th><th scope=col>&lt;dbl&gt;</th><th scope=col>&lt;dbl&gt;</th><th scope=col>&lt;dbl&gt;</th><th scope=col>&lt;dbl&gt;</th></tr>\n",
       "</thead>\n",
       "<tbody>\n",
       "\t<tr><td>42.18449</td><td>7.132086</td><td>7.312834</td><td>59.17112</td><td>5.385027</td><td>70.16578</td><td>6816.845</td></tr>\n",
       "</tbody>\n",
       "</table>\n"
      ],
      "text/latex": [
       "A tibble: 1 × 7\n",
       "\\begin{tabular}{lllllll}\n",
       " Age & Sleep\\_Duration & Quality\\_of\\_sleep & Physical\\_Activity\\_Level & Stress\\_Level & Heart\\_Rate & Daily\\_steps\\\\\n",
       " <dbl> & <dbl> & <dbl> & <dbl> & <dbl> & <dbl> & <dbl>\\\\\n",
       "\\hline\n",
       "\t 42.18449 & 7.132086 & 7.312834 & 59.17112 & 5.385027 & 70.16578 & 6816.845\\\\\n",
       "\\end{tabular}\n"
      ],
      "text/markdown": [
       "\n",
       "A tibble: 1 × 7\n",
       "\n",
       "| Age &lt;dbl&gt; | Sleep_Duration &lt;dbl&gt; | Quality_of_sleep &lt;dbl&gt; | Physical_Activity_Level &lt;dbl&gt; | Stress_Level &lt;dbl&gt; | Heart_Rate &lt;dbl&gt; | Daily_steps &lt;dbl&gt; |\n",
       "|---|---|---|---|---|---|---|\n",
       "| 42.18449 | 7.132086 | 7.312834 | 59.17112 | 5.385027 | 70.16578 | 6816.845 |\n",
       "\n"
      ],
      "text/plain": [
       "  Age      Sleep_Duration Quality_of_sleep Physical_Activity_Level Stress_Level\n",
       "1 42.18449 7.132086       7.312834         59.17112                5.385027    \n",
       "  Heart_Rate Daily_steps\n",
       "1 70.16578   6816.845   "
      ]
     },
     "metadata": {},
     "output_type": "display_data"
    }
   ],
   "source": [
    "# Summarizing means across quantitative variables\n",
    "sleep_summary <- sleep_2 |>\n",
    "    summarize(across(Age:Daily_steps, mean))\n",
    "sleep_summary"
   ]
  }
 ],
 "metadata": {
  "kernelspec": {
   "display_name": "R",
   "language": "R",
   "name": "ir"
  },
  "language_info": {
   "codemirror_mode": "r",
   "file_extension": ".r",
   "mimetype": "text/x-r-source",
   "name": "R",
   "pygments_lexer": "r",
   "version": "4.1.3"
  }
 },
 "nbformat": 4,
 "nbformat_minor": 5
}
