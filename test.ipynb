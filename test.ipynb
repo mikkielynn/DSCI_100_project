{
 "cells": [
  {
   "cell_type": "markdown",
   "id": "2ca39af1-3814-49c9-90f3-c12f27fecfe1",
   "metadata": {},
   "source": [
    "hello!"
   ]
  }
 ],
 "metadata": {
  "kernelspec": {
   "display_name": "R",
   "language": "R",
   "name": "ir"
  },
  "language_info": {
   "codemirror_mode": "r",
   "file_extension": ".r",
   "mimetype": "text/x-r-source",
   "name": "R",
   "pygments_lexer": "r",
   "version": "4.1.3"
  }
 },
 "nbformat": 4,
 "nbformat_minor": 5
}
