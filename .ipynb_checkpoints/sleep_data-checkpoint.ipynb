{
 "cells": [
  {
   "cell_type": "markdown",
   "id": "1bc98b55-7150-40b9-878c-616a6fe377ff",
   "metadata": {},
   "source": [
    "INTRODUCTION: \n",
    "\n",
    "The dataset presented looks at factors that attribute to having a sleeping disorder. Columns in the data set include sleep duration (hours), quality of sleep (/10), stress(/10), age, number of daily steps, heart rate (beats per minute), physical activity level (/100), etc. Each factor goes into determining if the person survyed has no sleep disorder, insomina or sleep apnea. Insomina is described as when a  individual experiences difficulty falling asleep or staying asleep, leading to inadequate or poor-quality sleep. Moreover, sleep apnea is described as when an individual suffers from pauses in breathing during sleep, resulting in disrupted sleep patterns and potential health risk.\n",
    "\n",
    "The question we will be answering is based on our personal data, does a sleep disorder persist and if so which one? This is an important question for us to explore as we could possible identify and work towards finding a diagnosis for ourselves. This could lead to lifestyle changes that would give us an overall better quailty of life.\n",
    "\n",
    "\n"
   ]
  },
  {
   "cell_type": "code",
   "execution_count": 1,
   "id": "cc7b9dba-93b1-47b3-9256-1e485451657c",
   "metadata": {},
   "outputs": [
    {
     "name": "stderr",
     "output_type": "stream",
     "text": [
      "── \u001b[1mAttaching packages\u001b[22m ─────────────────────────────────────── tidyverse 1.3.1 ──\n",
      "\n",
      "\u001b[32m✔\u001b[39m \u001b[34mggplot2\u001b[39m 3.3.6     \u001b[32m✔\u001b[39m \u001b[34mpurrr  \u001b[39m 0.3.4\n",
      "\u001b[32m✔\u001b[39m \u001b[34mtibble \u001b[39m 3.1.7     \u001b[32m✔\u001b[39m \u001b[34mdplyr  \u001b[39m 1.0.9\n",
      "\u001b[32m✔\u001b[39m \u001b[34mtidyr  \u001b[39m 1.2.0     \u001b[32m✔\u001b[39m \u001b[34mstringr\u001b[39m 1.4.0\n",
      "\u001b[32m✔\u001b[39m \u001b[34mreadr  \u001b[39m 2.1.2     \u001b[32m✔\u001b[39m \u001b[34mforcats\u001b[39m 0.5.1\n",
      "\n",
      "── \u001b[1mConflicts\u001b[22m ────────────────────────────────────────── tidyverse_conflicts() ──\n",
      "\u001b[31m✖\u001b[39m \u001b[34mdplyr\u001b[39m::\u001b[32mfilter()\u001b[39m masks \u001b[34mstats\u001b[39m::filter()\n",
      "\u001b[31m✖\u001b[39m \u001b[34mdplyr\u001b[39m::\u001b[32mlag()\u001b[39m    masks \u001b[34mstats\u001b[39m::lag()\n",
      "\n",
      "── \u001b[1mAttaching packages\u001b[22m ────────────────────────────────────── tidymodels 1.0.0 ──\n",
      "\n",
      "\u001b[32m✔\u001b[39m \u001b[34mbroom       \u001b[39m 1.0.0     \u001b[32m✔\u001b[39m \u001b[34mrsample     \u001b[39m 1.0.0\n",
      "\u001b[32m✔\u001b[39m \u001b[34mdials       \u001b[39m 1.0.0     \u001b[32m✔\u001b[39m \u001b[34mtune        \u001b[39m 1.0.0\n",
      "\u001b[32m✔\u001b[39m \u001b[34minfer       \u001b[39m 1.0.2     \u001b[32m✔\u001b[39m \u001b[34mworkflows   \u001b[39m 1.0.0\n",
      "\u001b[32m✔\u001b[39m \u001b[34mmodeldata   \u001b[39m 1.0.0     \u001b[32m✔\u001b[39m \u001b[34mworkflowsets\u001b[39m 1.0.0\n",
      "\u001b[32m✔\u001b[39m \u001b[34mparsnip     \u001b[39m 1.0.0     \u001b[32m✔\u001b[39m \u001b[34myardstick   \u001b[39m 1.0.0\n",
      "\u001b[32m✔\u001b[39m \u001b[34mrecipes     \u001b[39m 1.0.1     \n",
      "\n",
      "── \u001b[1mConflicts\u001b[22m ───────────────────────────────────────── tidymodels_conflicts() ──\n",
      "\u001b[31m✖\u001b[39m \u001b[34mscales\u001b[39m::\u001b[32mdiscard()\u001b[39m masks \u001b[34mpurrr\u001b[39m::discard()\n",
      "\u001b[31m✖\u001b[39m \u001b[34mdplyr\u001b[39m::\u001b[32mfilter()\u001b[39m   masks \u001b[34mstats\u001b[39m::filter()\n",
      "\u001b[31m✖\u001b[39m \u001b[34mrecipes\u001b[39m::\u001b[32mfixed()\u001b[39m  masks \u001b[34mstringr\u001b[39m::fixed()\n",
      "\u001b[31m✖\u001b[39m \u001b[34mdplyr\u001b[39m::\u001b[32mlag()\u001b[39m      masks \u001b[34mstats\u001b[39m::lag()\n",
      "\u001b[31m✖\u001b[39m \u001b[34myardstick\u001b[39m::\u001b[32mspec()\u001b[39m masks \u001b[34mreadr\u001b[39m::spec()\n",
      "\u001b[31m✖\u001b[39m \u001b[34mrecipes\u001b[39m::\u001b[32mstep()\u001b[39m   masks \u001b[34mstats\u001b[39m::step()\n",
      "\u001b[34m•\u001b[39m Use \u001b[32mtidymodels_prefer()\u001b[39m to resolve common conflicts.\n",
      "\n",
      "Warning message in file(filename, \"r\", encoding = encoding):\n",
      "“cannot open file 'tests.R': No such file or directory”\n"
     ]
    },
    {
     "ename": "ERROR",
     "evalue": "Error in file(filename, \"r\", encoding = encoding): cannot open the connection\n",
     "output_type": "error",
     "traceback": [
      "Error in file(filename, \"r\", encoding = encoding): cannot open the connection\nTraceback:\n",
      "1. source(\"tests.R\")",
      "2. file(filename, \"r\", encoding = encoding)"
     ]
    }
   ],
   "source": [
    "### Loading necessary libraries needed to tidy and wrangle our dataset. \n",
    "library(tidyverse)\n",
    "library(repr)\n",
    "library(tidymodels)\n",
    "options(repr.matrix.max.rows = 6)"
   ]
  },
  {
   "cell_type": "markdown",
   "id": "51aebeeb-ac0c-4140-a62e-3d5d335908ca",
   "metadata": {},
   "source": [
    "PRELIMINARY EXPLORATORY DATA ANALYSIS:"
   ]
  },
  {
   "cell_type": "code",
   "execution_count": null,
   "id": "f1e51d64-d9a2-4cc0-8ae3-9409a8b8c7c9",
   "metadata": {},
   "outputs": [],
   "source": [
    "# Reading dataset into R\n",
    "sleep <- read_csv(\"https://raw.githubusercontent.com/mikkielynn/DSCI_100_project/main/Sleep_health_and_lifestyle_dataset.csv\")\n",
    "head(sleep)"
   ]
  },
  {
   "cell_type": "code",
   "execution_count": null,
   "id": "677c5a28-33a9-4cfc-bee9-55ee92c6a2d7",
   "metadata": {},
   "outputs": [],
   "source": [
    "# Tidying our dataset: Renaming variable names to make the data easier to work with and apply functions to for manipulation. \n",
    "colnames(sleep) <- c(\"Person_ID\", \"Gender\", \"Age\", \"Occupation\", \"Sleep_Duration\", \"Quality_of_sleep\", \"Physical_Activity_Level\", \"Stress_Level\", \"BMI\", \"Blood_Pressure\", \"Heart_Rate\", \"Daily_steps\", \"Sleep_disorder\")\n",
    "sleep"
   ]
  },
  {
   "cell_type": "markdown",
   "id": "58cf518d-560b-402c-9c6a-a070410527f6",
   "metadata": {},
   "source": [
    "WHICH COLUMNS WE ARE CHOOSING TO ANALYZE AND WHY:"
   ]
  },
  {
   "cell_type": "code",
   "execution_count": null,
   "id": "9ec4f2f0-9e24-400f-b989-962a599c9bad",
   "metadata": {},
   "outputs": [],
   "source": [
    "# Tidied data; selected columns used for analysis\n",
    "sleep_2 <- sleep |>\n",
    "    select(-Person_ID, -Gender, -Occupation, -BMI, -Blood_Pressure)\n",
    "sleep_2"
   ]
  },
  {
   "cell_type": "markdown",
   "id": "ff818399-ca74-44df-a3a7-5ea5bf98ef59",
   "metadata": {},
   "source": [
    "- PERFORMING SUMMARY STATISTICS ON OUR TRAINING DATA:"
   ]
  },
  {
   "cell_type": "code",
   "execution_count": null,
   "id": "4901699a-2bd1-4af9-abd6-07ca7ab413b6",
   "metadata": {},
   "outputs": [],
   "source": [
    "#splitting our data into a testing set and a training set\n",
    "sleep_split <- initial_split(sleep_2, prop = 0.5, strata = Sleep_disorder)\n",
    "sleep_train <- training(sleep_split)\n",
    "sleep_test <- testing(sleep_split)\n",
    "sleep_train     \n",
    "sleep_test\n",
    "\n",
    "#ensuring we have equal proportions of the different lables for the sleep disorder\n",
    "sleep_train |>\n",
    "    count(Sleep_disorder)\n",
    "\n",
    "sleep_test |>\n",
    "    count(Sleep_disorder)"
   ]
  },
  {
   "cell_type": "code",
   "execution_count": null,
   "id": "b6afdcb4-95e7-4894-b72a-48b089b21cbb",
   "metadata": {},
   "outputs": [],
   "source": [
    "#calculating the percentge of each sleep disorder in our training data to give us an overview of the data we are working with\n",
    "num_obs <- nrow(sleep_2)\n",
    "sleep_train |>\n",
    "  group_by(Sleep_disorder) |>\n",
    "  summarize(\n",
    "    count = n(),\n",
    "    percentage = n() / num_obs * 100\n",
    "  )"
   ]
  },
  {
   "cell_type": "code",
   "execution_count": null,
   "id": "c95116dc-b91e-41bd-9fb9-e8898db344d8",
   "metadata": {},
   "outputs": [],
   "source": [
    "# Summarizing means across quantitative variables for our training data\n",
    "sleep_summary <- sleep_train |>\n",
    "    summarize(across(Age:Daily_steps, mean))\n",
    "sleep_summary"
   ]
  },
  {
   "cell_type": "code",
   "execution_count": null,
   "id": "78044334-a747-447c-9efd-8cc25cb2efd6",
   "metadata": {},
   "outputs": [],
   "source": [
    "*INSERT VISUALIZATIONS HERE* ggplot queens"
   ]
  },
  {
   "cell_type": "markdown",
   "id": "eaa3a0fa-7e5a-49b8-849b-c9a0ee0df263",
   "metadata": {},
   "source": [
    "METHODS: \n",
    "- Explain how we will conduct the data analysis (just explain K nearest neighbors)\n",
    "- Explain which variables/columns we will use (*INSERT RESEARCH HERE ON DIFF VARIABLES WE SELECTED AFFECT ON SLEEP)\n",
    "    also: reference the visualizations when defending the variable choices! "
   ]
  },
  {
   "cell_type": "markdown",
   "id": "3ce91f38-5e7d-4451-afdd-93ed1d47362c",
   "metadata": {},
   "source": [
    "EXPECTED OUTCOMES AND SIGNIFICANCE: *rough work*\n",
    "- what do you expect to find:\n",
    "    (trends in sleep disorders and the way each disorder affects people's sleep differently)\n",
    "- what impact could such findings have:\n",
    "    (efficiently diagnose patients with sleep disorders using measurable predictors that could potentially directly correlate to a sleep disorder)\n",
    "- what future questions could this lead to: \n",
    "    (what are the impacts of sleep disorders on daily life?\n",
    "    how can sleep disorders be treated?\n",
    "    are sleep disorders genetically predetermined?)"
   ]
  }
 ],
 "metadata": {
  "kernelspec": {
   "display_name": "R",
   "language": "R",
   "name": "ir"
  },
  "language_info": {
   "codemirror_mode": "r",
   "file_extension": ".r",
   "mimetype": "text/x-r-source",
   "name": "R",
   "pygments_lexer": "r",
   "version": "4.1.3"
  }
 },
 "nbformat": 4,
 "nbformat_minor": 5
}
